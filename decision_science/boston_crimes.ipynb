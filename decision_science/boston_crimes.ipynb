{
 "cells": [
  {
   "cell_type": "markdown",
   "metadata": {},
   "source": [
    "\n",
    "# Advisory mission for the Boston municipal authorities\n",
    "\n",
    "\n",
    "![title](assets/boston_logo.png)"
   ]
  },
  {
   "cell_type": "markdown",
   "metadata": {},
   "source": [
    "Welcome to the Decision Science exercise of your data certification exam!\n",
    "\n",
    "Here are a few words to describe how the `decision_science` directory is organised:"
   ]
  },
  {
   "cell_type": "code",
   "execution_count": 1,
   "metadata": {
    "ExecuteTime": {
     "end_time": "2021-06-29T13:23:51.651139Z",
     "start_time": "2021-06-29T13:23:51.520610Z"
    }
   },
   "outputs": [
    {
     "name": "stdout",
     "output_type": "stream",
     "text": [
      "\u001b[01;34m.\u001b[00m\r\n",
      "├── README.md\r\n",
      "├── \u001b[01;34m__pycache__\u001b[00m\r\n",
      "│   └── data.cpython-38.pyc\r\n",
      "├── boston_crimes.ipynb\r\n",
      "├── \u001b[01;34mdata\u001b[00m\r\n",
      "│   ├── boston_crimes.sqlite\r\n",
      "│   ├── boston_crimes_regression.csv\r\n",
      "│   ├── districts.csv\r\n",
      "│   └── incident_reports.csv\r\n",
      "├── data.py\r\n",
      "├── \u001b[01;34mdb\u001b[00m\r\n",
      "│   ├── boston_crimes.sqlite\r\n",
      "│   └── boston_crimes.xml\r\n",
      "└── \u001b[01;34mtests\u001b[00m\r\n",
      "    ├── answers_inference.json\r\n",
      "    ├── linear_regression_analysis.pickle\r\n",
      "    ├── linear_regression_model.pickle\r\n",
      "    ├── manipulation.pickle\r\n",
      "    └── sql.pickle\r\n",
      "\r\n",
      "4 directories, 15 files\r\n"
     ]
    }
   ],
   "source": [
    "# Start by running this cell to see the architecture of the directory\n",
    "!tree"
   ]
  },
  {
   "cell_type": "markdown",
   "metadata": {},
   "source": [
    "- the `boston_crimes.ipynb` notebook that you currently have under your eyes is the main document. You will find all the instructions here and except when it is explicitly specified, you should provide all your answers in this notebook;\n",
    "\n",
    "\n",
    "- the `data` and `db` folders will be filled-in throughout the exercise respectively with `.csv` datasets and a `.sqlite` file, for you to run all your analyses; \n",
    "\n",
    "\n",
    "- you will not have to interact with the `assets` folder for this exercise;\n",
    "\n",
    "\n",
    "- the `tests` folder will contain all the `.pickle` files that will be saved throughout the exercise with your key findings. Please run all the \"Save your results\" cells when completing the exercise!"
   ]
  },
  {
   "cell_type": "markdown",
   "metadata": {},
   "source": [
    "⚠️ **Important remark** before you dive into the exercise. This notebook is quite long and it is easy to get lost in it: take full advantage of the collapsible headers and of the table of content. If you have not yet activated these Jupyter Notebook extensions, you may consider doing so now!"
   ]
  },
  {
   "cell_type": "markdown",
   "metadata": {
    "heading_collapsed": true
   },
   "source": [
    "# Imports"
   ]
  },
  {
   "cell_type": "markdown",
   "metadata": {
    "hidden": true
   },
   "source": [
    "You can use this section to run your imports in a centralised manner throughout the exercise."
   ]
  },
  {
   "cell_type": "code",
   "execution_count": 2,
   "metadata": {
    "ExecuteTime": {
     "end_time": "2021-06-29T13:23:51.663090Z",
     "start_time": "2021-06-29T13:23:51.653494Z"
    },
    "hidden": true
   },
   "outputs": [],
   "source": [
    "# Load the nbresult package to be able to save your results \n",
    "from nbresult import ChallengeResult"
   ]
  },
  {
   "cell_type": "code",
   "execution_count": 3,
   "metadata": {
    "ExecuteTime": {
     "end_time": "2021-06-29T13:23:51.668217Z",
     "start_time": "2021-06-29T13:23:51.665881Z"
    },
    "hidden": true
   },
   "outputs": [],
   "source": [
    "# Useful import for data collection\n",
    "import sqlite3"
   ]
  },
  {
   "cell_type": "code",
   "execution_count": 4,
   "metadata": {
    "ExecuteTime": {
     "end_time": "2021-06-29T13:23:51.870620Z",
     "start_time": "2021-06-29T13:23:51.670522Z"
    },
    "hidden": true
   },
   "outputs": [],
   "source": [
    "# Useful imports for data manipulation and analysis\n",
    "import numpy as np\n",
    "import pandas as pd"
   ]
  },
  {
   "cell_type": "code",
   "execution_count": 5,
   "metadata": {
    "ExecuteTime": {
     "end_time": "2021-06-29T13:23:52.428902Z",
     "start_time": "2021-06-29T13:23:51.872216Z"
    },
    "hidden": true
   },
   "outputs": [],
   "source": [
    "# Useful imports for data visualisation\n",
    "import matplotlib.pyplot as plt\n",
    "import seaborn as sns"
   ]
  },
  {
   "cell_type": "code",
   "execution_count": 6,
   "metadata": {
    "ExecuteTime": {
     "end_time": "2021-06-29T13:23:52.559560Z",
     "start_time": "2021-06-29T13:23:52.430722Z"
    },
    "hidden": true
   },
   "outputs": [],
   "source": [
    "# Useful imports to estimate regression models\n",
    "import statsmodels.formula.api as smf"
   ]
  },
  {
   "cell_type": "markdown",
   "metadata": {},
   "source": [
    "# 1. Analysis for the mayor's team"
   ]
  },
  {
   "cell_type": "markdown",
   "metadata": {},
   "source": [
    "During the last municipal campaign in Boston, criminality has been a major topic of debates. As citizens have expressed strong expectations from her on that front, the newly-elected mayor of Boston is looking for data-based insights on criminality in the Massachussetts capital. She has mandated your economics and urbanism consulting firm, *The Locomotive*, for this study."
   ]
  },
  {
   "cell_type": "markdown",
   "metadata": {
    "heading_collapsed": true
   },
   "source": [
    "## 1.1 Load the database"
   ]
  },
  {
   "cell_type": "markdown",
   "metadata": {
    "hidden": true
   },
   "source": [
    "Download the `boston_crimes.sqlite` database from this [URL](https://wagon-public-datasets.s3.amazonaws.com/certification_france_2021_q2/boston_crimes.sqlite) and store it inside the `db` folder."
   ]
  },
  {
   "cell_type": "code",
   "execution_count": 7,
   "metadata": {
    "ExecuteTime": {
     "end_time": "2021-06-29T13:23:53.504445Z",
     "start_time": "2021-06-29T13:23:52.561005Z"
    },
    "hidden": true
   },
   "outputs": [
    {
     "name": "stdout",
     "output_type": "stream",
     "text": [
      "  % Total    % Received % Xferd  Average Speed   Time    Time     Time  Current\n",
      "                                 Dload  Upload   Total   Spent    Left  Speed\n",
      "100 19.1M  100 19.1M    0     0  24.0M      0 --:--:-- --:--:-- --:--:-- 24.0M\n"
     ]
    }
   ],
   "source": [
    "# You may directly run this cell to do so\n",
    "!curl https://wagon-public-datasets.s3.amazonaws.com/certification_france_2021_q2/boston_crimes.sqlite > db/boston_crimes.sqlite"
   ]
  },
  {
   "cell_type": "markdown",
   "metadata": {
    "heading_collapsed": true
   },
   "source": [
    "## 1.2 Familiarize yourself with the database"
   ]
  },
  {
   "cell_type": "markdown",
   "metadata": {
    "hidden": true
   },
   "source": [
    "This section aims at giving you a first overview of the database. \n",
    "\n",
    "As you will see, it consists in three tables: \n",
    "\n",
    "- the `incident_reports` table has been provided by the Police Department of Boston. Each observation corresponds to a criminal incident that has required an intervention by the police in the municipality of Boston;  \n",
    "\n",
    "\n",
    "\n",
    "- the `districts` table has been provided by the Urbanism Department of Boston. It gathers geographical information about the various police districts of Boston;  \n",
    "\n",
    "\n",
    "\n",
    "- and the `indicators` table has been shared by the Economics Department of Boston, which keeps track of various indicators of the social and economic activity of Boston neighborhoods. Each observation corresponds to a police district.\n",
    "\n",
    "More information about the different fields of these three tables can be found in the dedicated `README.md` file"
   ]
  },
  {
   "cell_type": "markdown",
   "metadata": {
    "heading_collapsed": true,
    "hidden": true
   },
   "source": [
    "### Connect to the database"
   ]
  },
  {
   "cell_type": "markdown",
   "metadata": {
    "hidden": true
   },
   "source": [
    "**🔍 Using your preferred SQL client, connect to the database and browse through it as you wish to get acquainted with the data.**"
   ]
  },
  {
   "cell_type": "markdown",
   "metadata": {
    "heading_collapsed": true,
    "hidden": true
   },
   "source": [
    "### Draw a schema of the database"
   ]
  },
  {
   "cell_type": "markdown",
   "metadata": {
    "hidden": true
   },
   "source": [
    "**📝 Draw the database schema thanks to the [schema editor](https://kitt.lewagon.com/db) on Kitt.**"
   ]
  },
  {
   "cell_type": "markdown",
   "metadata": {
    "hidden": true
   },
   "source": [
    "**📝 Download the schema and save it as `boston_crimes.xml` in the `db` folder.**"
   ]
  },
  {
   "cell_type": "markdown",
   "metadata": {},
   "source": [
    "## 1.3 Extract the relevant dataset"
   ]
  },
  {
   "cell_type": "markdown",
   "metadata": {},
   "source": [
    "Now that you have a good overview of the database, you can kick off the work! You will start with an SQL query to gather the relevant information."
   ]
  },
  {
   "cell_type": "markdown",
   "metadata": {},
   "source": [
    "### Build the dataset"
   ]
  },
  {
   "cell_type": "markdown",
   "metadata": {},
   "source": [
    "We want to investigate the influence of the socio-economic characteristics of Boston's different districts on the number of crime reports and incidents. To do so, we need to extract the relevant dataset. **Each row should correspond to one of the 12 police districts of Boston** (as listed in the `districts` table of the database).\n",
    "\n",
    "To identify the district, we will need **the following columns**: \n",
    "\n",
    "- the `CODE` of the police district (1 letter and 1 or 2 numbers);\n",
    "- the full `NAME` of the police district.\n",
    "\n",
    "Additionally, you will need to **create an additional field** (which will serve as dependent variable in future regressions): `NB_INCIDENTS`, i.e. the total number of incidents reported in the police district over the period covered by the data at hand (2015-2019).\n",
    "\n",
    "Eventually, we want the dataset to **include several socio-economic indicators**:\n",
    "\n",
    "- `MEDIAN_AGE`;\n",
    "- `TOTAL_POP`;\n",
    "- `PERC_OF_30_34`;\n",
    "- `PERC_MARRIED_COUPLE_FAMILY`;\n",
    "- `PER_CAPITA_INCOME`;\n",
    "- `PERC_OTHER_STATE_OR_ABROAD`;\n",
    "- `PERC_LESS_THAN_HIGH_SCHOOL`;\n",
    "- `PERC_COLLEGE_GRADUATES`. \n",
    "\n",
    "Overall, your dataset should comprise 12 rows and 11 columns.\n",
    "\n",
    "Eventually, note that **the resulting DataFrame must be ordered by the number of incidents**, from the largest to the smallest total."
   ]
  },
  {
   "cell_type": "markdown",
   "metadata": {},
   "source": [
    "**📝 Write the SQL query you need to fetch the data. Save it as a `str` in the `query` variable.**"
   ]
  },
  {
   "cell_type": "code",
   "execution_count": 8,
   "metadata": {
    "ExecuteTime": {
     "end_time": "2021-06-29T13:23:53.513680Z",
     "start_time": "2021-06-29T13:23:53.510107Z"
    }
   },
   "outputs": [],
   "source": [
    "query1 = \"\"\"\n",
    "SELECT \"districts\".CODE, \"districts\".NAME\n",
    "FROM districts\n",
    "\"\"\""
   ]
  },
  {
   "cell_type": "code",
   "execution_count": 9,
   "metadata": {
    "ExecuteTime": {
     "end_time": "2021-06-29T13:23:53.518798Z",
     "start_time": "2021-06-29T13:23:53.516745Z"
    }
   },
   "outputs": [],
   "source": [
    "query2 = \"\"\"\n",
    "SELECT districts.CODE, \n",
    "districts.NAME, \n",
    "COUNT(incident_reports.INCIDENT_NUMBER)\n",
    "FROM districts\n",
    "JOIN incident_reports ON incident_reports.DISTRICT = districts.CODE\n",
    "GROUP BY districts.CODE\n",
    "\"\"\""
   ]
  },
  {
   "cell_type": "code",
   "execution_count": 10,
   "metadata": {
    "ExecuteTime": {
     "end_time": "2021-06-29T13:23:53.523227Z",
     "start_time": "2021-06-29T13:23:53.520885Z"
    }
   },
   "outputs": [],
   "source": [
    "query = \"\"\"\n",
    "SELECT districts.CODE, \n",
    "districts.NAME, \n",
    "COUNT(incident_reports.INCIDENT_NUMBER) AS NB_INCIDENTS,\n",
    "indicators.MEDIAN_AGE,\n",
    "indicators.TOTAL_POP,\n",
    "indicators.PERC_OF_30_34,\n",
    "indicators.PERC_MARRIED_COUPLE_FAMILY,\n",
    "indicators.PER_CAPITA_INCOME,\n",
    "indicators.PERC_OTHER_STATE_OR_ABROAD,\n",
    "indicators.PERC_LESS_THAN_HIGH_SCHOOL,\n",
    "indicators.PERC_COLLEGE_GRADUATES\n",
    "FROM incident_reports\n",
    "JOIN districts ON incident_reports.DISTRICT = districts.CODE\n",
    "JOIN indicators ON indicators.CODE = districts.CODE\n",
    "GROUP BY districts.CODE\n",
    "\"\"\""
   ]
  },
  {
   "cell_type": "markdown",
   "metadata": {},
   "source": [
    "**📝 Store the output of the query in a `DataFrame` named `crimes_df`. Display the 5 first rows, as well as the shape of the dataset.**"
   ]
  },
  {
   "cell_type": "code",
   "execution_count": 11,
   "metadata": {
    "ExecuteTime": {
     "end_time": "2021-06-29T13:23:53.527650Z",
     "start_time": "2021-06-29T13:23:53.525071Z"
    },
    "tags": [
     "challengify"
    ]
   },
   "outputs": [],
   "source": [
    "# YOUR CODE HERE\n",
    "import pandas as pd\n",
    "import sqlite3\n",
    "conn = sqlite3.connect(\"db/boston_crimes.sqlite\")"
   ]
  },
  {
   "cell_type": "code",
   "execution_count": 12,
   "metadata": {
    "ExecuteTime": {
     "end_time": "2021-06-29T13:23:54.009950Z",
     "start_time": "2021-06-29T13:23:53.529411Z"
    }
   },
   "outputs": [],
   "source": [
    "cursor = conn.cursor()\n",
    "crimes_df = pd.read_sql(\n",
    "    query, conn)"
   ]
  },
  {
   "cell_type": "code",
   "execution_count": 13,
   "metadata": {
    "ExecuteTime": {
     "end_time": "2021-06-29T13:23:54.027925Z",
     "start_time": "2021-06-29T13:23:54.011610Z"
    },
    "scrolled": true
   },
   "outputs": [
    {
     "data": {
      "text/html": [
       "<div>\n",
       "<style scoped>\n",
       "    .dataframe tbody tr th:only-of-type {\n",
       "        vertical-align: middle;\n",
       "    }\n",
       "\n",
       "    .dataframe tbody tr th {\n",
       "        vertical-align: top;\n",
       "    }\n",
       "\n",
       "    .dataframe thead th {\n",
       "        text-align: right;\n",
       "    }\n",
       "</style>\n",
       "<table border=\"1\" class=\"dataframe\">\n",
       "  <thead>\n",
       "    <tr style=\"text-align: right;\">\n",
       "      <th></th>\n",
       "      <th>CODE</th>\n",
       "      <th>NAME</th>\n",
       "      <th>NB_INCIDENTS</th>\n",
       "      <th>MEDIAN_AGE</th>\n",
       "      <th>TOTAL_POP</th>\n",
       "      <th>PERC_OF_30_34</th>\n",
       "      <th>PERC_MARRIED_COUPLE_FAMILY</th>\n",
       "      <th>PER_CAPITA_INCOME</th>\n",
       "      <th>PERC_OTHER_STATE_OR_ABROAD</th>\n",
       "      <th>PERC_LESS_THAN_HIGH_SCHOOL</th>\n",
       "      <th>PERC_COLLEGE_GRADUATES</th>\n",
       "    </tr>\n",
       "  </thead>\n",
       "  <tbody>\n",
       "    <tr>\n",
       "      <th>0</th>\n",
       "      <td>A1</td>\n",
       "      <td>Downtown</td>\n",
       "      <td>26260</td>\n",
       "      <td>33.5</td>\n",
       "      <td>18306</td>\n",
       "      <td>32.5</td>\n",
       "      <td>35.8</td>\n",
       "      <td>80057</td>\n",
       "      <td>14.8</td>\n",
       "      <td>15.4</td>\n",
       "      <td>6.9</td>\n",
       "    </tr>\n",
       "    <tr>\n",
       "      <th>1</th>\n",
       "      <td>A15</td>\n",
       "      <td>Charlestown</td>\n",
       "      <td>4765</td>\n",
       "      <td>35.7</td>\n",
       "      <td>19890</td>\n",
       "      <td>28.2</td>\n",
       "      <td>36.4</td>\n",
       "      <td>75339</td>\n",
       "      <td>3.4</td>\n",
       "      <td>7.9</td>\n",
       "      <td>8.2</td>\n",
       "    </tr>\n",
       "    <tr>\n",
       "      <th>2</th>\n",
       "      <td>A7</td>\n",
       "      <td>East Boston</td>\n",
       "      <td>9691</td>\n",
       "      <td>30.6</td>\n",
       "      <td>47263</td>\n",
       "      <td>31.1</td>\n",
       "      <td>30.4</td>\n",
       "      <td>31473</td>\n",
       "      <td>3.5</td>\n",
       "      <td>27.2</td>\n",
       "      <td>11.5</td>\n",
       "    </tr>\n",
       "    <tr>\n",
       "      <th>3</th>\n",
       "      <td>B2</td>\n",
       "      <td>Roxbury</td>\n",
       "      <td>38877</td>\n",
       "      <td>32.5</td>\n",
       "      <td>54161</td>\n",
       "      <td>27.8</td>\n",
       "      <td>17.8</td>\n",
       "      <td>20978</td>\n",
       "      <td>2.9</td>\n",
       "      <td>23.0</td>\n",
       "      <td>18.9</td>\n",
       "    </tr>\n",
       "    <tr>\n",
       "      <th>4</th>\n",
       "      <td>B3</td>\n",
       "      <td>Mattapan</td>\n",
       "      <td>28331</td>\n",
       "      <td>36.7</td>\n",
       "      <td>26659</td>\n",
       "      <td>20.9</td>\n",
       "      <td>29.8</td>\n",
       "      <td>28356</td>\n",
       "      <td>2.3</td>\n",
       "      <td>14.5</td>\n",
       "      <td>22.9</td>\n",
       "    </tr>\n",
       "  </tbody>\n",
       "</table>\n",
       "</div>"
      ],
      "text/plain": [
       "  CODE         NAME  NB_INCIDENTS  MEDIAN_AGE  TOTAL_POP  PERC_OF_30_34  \\\n",
       "0   A1     Downtown         26260        33.5      18306           32.5   \n",
       "1  A15  Charlestown          4765        35.7      19890           28.2   \n",
       "2   A7  East Boston          9691        30.6      47263           31.1   \n",
       "3   B2      Roxbury         38877        32.5      54161           27.8   \n",
       "4   B3     Mattapan         28331        36.7      26659           20.9   \n",
       "\n",
       "   PERC_MARRIED_COUPLE_FAMILY  PER_CAPITA_INCOME  PERC_OTHER_STATE_OR_ABROAD  \\\n",
       "0                        35.8              80057                        14.8   \n",
       "1                        36.4              75339                         3.4   \n",
       "2                        30.4              31473                         3.5   \n",
       "3                        17.8              20978                         2.9   \n",
       "4                        29.8              28356                         2.3   \n",
       "\n",
       "   PERC_LESS_THAN_HIGH_SCHOOL  PERC_COLLEGE_GRADUATES  \n",
       "0                        15.4                     6.9  \n",
       "1                         7.9                     8.2  \n",
       "2                        27.2                    11.5  \n",
       "3                        23.0                    18.9  \n",
       "4                        14.5                    22.9  "
      ]
     },
     "execution_count": 13,
     "metadata": {},
     "output_type": "execute_result"
    }
   ],
   "source": [
    "crimes_df.head()"
   ]
  },
  {
   "cell_type": "code",
   "execution_count": 14,
   "metadata": {
    "ExecuteTime": {
     "end_time": "2021-06-29T13:23:54.032722Z",
     "start_time": "2021-06-29T13:23:54.029821Z"
    }
   },
   "outputs": [
    {
     "data": {
      "text/plain": [
       "(12, 11)"
      ]
     },
     "execution_count": 14,
     "metadata": {},
     "output_type": "execute_result"
    }
   ],
   "source": [
    "crimes_df.shape"
   ]
  },
  {
   "cell_type": "markdown",
   "metadata": {
    "heading_collapsed": true
   },
   "source": [
    "### Save your results"
   ]
  },
  {
   "cell_type": "markdown",
   "metadata": {
    "hidden": true
   },
   "source": [
    "You can run the following cell to save your results:"
   ]
  },
  {
   "cell_type": "code",
   "execution_count": 15,
   "metadata": {
    "ExecuteTime": {
     "end_time": "2021-06-29T13:23:54.036975Z",
     "start_time": "2021-06-29T13:23:54.034141Z"
    },
    "hidden": true
   },
   "outputs": [],
   "source": [
    "ChallengeResult('sql', query=query, data=crimes_df).write()"
   ]
  },
  {
   "cell_type": "markdown",
   "metadata": {},
   "source": [
    "## 1.4 Linear regression - The socio-economic determinants of criminality\n",
    "\n",
    "As mentioned above, we want to investigate the impact of the socio-economic characteristics of the different Boston police districts on the number of incidents that are reported in these areas. \n",
    "- We are going to use the number of incidents as dependent variable \n",
    "- our regressors will be the various socio-economic indicators extracted from the database."
   ]
  },
  {
   "cell_type": "markdown",
   "metadata": {
    "heading_collapsed": true
   },
   "source": [
    "### 1.4.1 Start from a fresh dataset\n",
    "\n",
    "To make sure that you are using the right data, you can load a fresh dataset from this [URL](https://wagon-public-datasets.s3.amazonaws.com/certification_france_2021_q2/regression.csv).\n",
    "\n",
    "**📝 Load the data into a DataFrame named `data`**"
   ]
  },
  {
   "cell_type": "code",
   "execution_count": 16,
   "metadata": {
    "ExecuteTime": {
     "end_time": "2021-06-29T13:23:54.043751Z",
     "start_time": "2021-06-29T13:23:54.038404Z"
    },
    "hidden": true,
    "tags": [
     "challengify"
    ]
   },
   "outputs": [],
   "source": [
    "# YOUR CODE HERE\n",
    "data = pd.read_csv('data/boston_crimes_regression.csv')"
   ]
  },
  {
   "cell_type": "code",
   "execution_count": 17,
   "metadata": {
    "ExecuteTime": {
     "end_time": "2021-06-29T13:23:54.060951Z",
     "start_time": "2021-06-29T13:23:54.045196Z"
    },
    "hidden": true
   },
   "outputs": [
    {
     "data": {
      "text/html": [
       "<div>\n",
       "<style scoped>\n",
       "    .dataframe tbody tr th:only-of-type {\n",
       "        vertical-align: middle;\n",
       "    }\n",
       "\n",
       "    .dataframe tbody tr th {\n",
       "        vertical-align: top;\n",
       "    }\n",
       "\n",
       "    .dataframe thead th {\n",
       "        text-align: right;\n",
       "    }\n",
       "</style>\n",
       "<table border=\"1\" class=\"dataframe\">\n",
       "  <thead>\n",
       "    <tr style=\"text-align: right;\">\n",
       "      <th></th>\n",
       "      <th>MEDIAN_AGE</th>\n",
       "      <th>TOTAL_POP</th>\n",
       "      <th>PERC_OF_30_34</th>\n",
       "      <th>PERC_MARRIED_COUPLE_FAMILY</th>\n",
       "      <th>PER_CAPITA_INCOME</th>\n",
       "      <th>PERC_OTHER_STATE_OR_ABROAD</th>\n",
       "      <th>PERC_LESS_THAN_HIGH_SCHOOL</th>\n",
       "      <th>PERC_COLLEGE_GRADUATES</th>\n",
       "      <th>CODE</th>\n",
       "      <th>NB_INCIDENTS</th>\n",
       "      <th>NAME</th>\n",
       "    </tr>\n",
       "  </thead>\n",
       "  <tbody>\n",
       "    <tr>\n",
       "      <th>0</th>\n",
       "      <td>30.8</td>\n",
       "      <td>55297</td>\n",
       "      <td>52.8</td>\n",
       "      <td>26.4</td>\n",
       "      <td>41261</td>\n",
       "      <td>8.6</td>\n",
       "      <td>6.7</td>\n",
       "      <td>10.5</td>\n",
       "      <td>D14</td>\n",
       "      <td>13788</td>\n",
       "      <td>Brighton</td>\n",
       "    </tr>\n",
       "    <tr>\n",
       "      <th>1</th>\n",
       "      <td>35.7</td>\n",
       "      <td>19890</td>\n",
       "      <td>28.2</td>\n",
       "      <td>36.4</td>\n",
       "      <td>75339</td>\n",
       "      <td>3.4</td>\n",
       "      <td>7.9</td>\n",
       "      <td>8.2</td>\n",
       "      <td>A15</td>\n",
       "      <td>4765</td>\n",
       "      <td>Charlestown</td>\n",
       "    </tr>\n",
       "    <tr>\n",
       "      <th>2</th>\n",
       "      <td>33.4</td>\n",
       "      <td>126909</td>\n",
       "      <td>28.2</td>\n",
       "      <td>26.6</td>\n",
       "      <td>29767</td>\n",
       "      <td>2.4</td>\n",
       "      <td>18.0</td>\n",
       "      <td>17.1</td>\n",
       "      <td>C11</td>\n",
       "      <td>32875</td>\n",
       "      <td>Dorchester</td>\n",
       "    </tr>\n",
       "    <tr>\n",
       "      <th>3</th>\n",
       "      <td>33.5</td>\n",
       "      <td>18306</td>\n",
       "      <td>32.5</td>\n",
       "      <td>35.8</td>\n",
       "      <td>80057</td>\n",
       "      <td>14.8</td>\n",
       "      <td>15.4</td>\n",
       "      <td>6.9</td>\n",
       "      <td>A1</td>\n",
       "      <td>26260</td>\n",
       "      <td>Downtown</td>\n",
       "    </tr>\n",
       "    <tr>\n",
       "      <th>4</th>\n",
       "      <td>30.6</td>\n",
       "      <td>47263</td>\n",
       "      <td>31.1</td>\n",
       "      <td>30.4</td>\n",
       "      <td>31473</td>\n",
       "      <td>3.5</td>\n",
       "      <td>27.2</td>\n",
       "      <td>11.5</td>\n",
       "      <td>A7</td>\n",
       "      <td>9691</td>\n",
       "      <td>East Boston</td>\n",
       "    </tr>\n",
       "    <tr>\n",
       "      <th>5</th>\n",
       "      <td>39.4</td>\n",
       "      <td>38924</td>\n",
       "      <td>21.1</td>\n",
       "      <td>38.4</td>\n",
       "      <td>32744</td>\n",
       "      <td>1.9</td>\n",
       "      <td>13.8</td>\n",
       "      <td>21.3</td>\n",
       "      <td>E18</td>\n",
       "      <td>12551</td>\n",
       "      <td>Hyde Park</td>\n",
       "    </tr>\n",
       "    <tr>\n",
       "      <th>6</th>\n",
       "      <td>34.8</td>\n",
       "      <td>40867</td>\n",
       "      <td>32.5</td>\n",
       "      <td>33.7</td>\n",
       "      <td>51655</td>\n",
       "      <td>5.5</td>\n",
       "      <td>8.0</td>\n",
       "      <td>12.1</td>\n",
       "      <td>E13</td>\n",
       "      <td>12802</td>\n",
       "      <td>Jamaica Plain</td>\n",
       "    </tr>\n",
       "    <tr>\n",
       "      <th>7</th>\n",
       "      <td>36.7</td>\n",
       "      <td>26659</td>\n",
       "      <td>20.9</td>\n",
       "      <td>29.8</td>\n",
       "      <td>28356</td>\n",
       "      <td>2.3</td>\n",
       "      <td>14.5</td>\n",
       "      <td>22.9</td>\n",
       "      <td>B3</td>\n",
       "      <td>28331</td>\n",
       "      <td>Mattapan</td>\n",
       "    </tr>\n",
       "    <tr>\n",
       "      <th>8</th>\n",
       "      <td>32.5</td>\n",
       "      <td>54161</td>\n",
       "      <td>27.8</td>\n",
       "      <td>17.8</td>\n",
       "      <td>20978</td>\n",
       "      <td>2.9</td>\n",
       "      <td>23.0</td>\n",
       "      <td>18.9</td>\n",
       "      <td>B2</td>\n",
       "      <td>38877</td>\n",
       "      <td>Roxbury</td>\n",
       "    </tr>\n",
       "    <tr>\n",
       "      <th>9</th>\n",
       "      <td>31.9</td>\n",
       "      <td>36772</td>\n",
       "      <td>46.1</td>\n",
       "      <td>24.7</td>\n",
       "      <td>64745</td>\n",
       "      <td>2.4</td>\n",
       "      <td>7.9</td>\n",
       "      <td>8.4</td>\n",
       "      <td>C6</td>\n",
       "      <td>16617</td>\n",
       "      <td>South Boston</td>\n",
       "    </tr>\n",
       "    <tr>\n",
       "      <th>10</th>\n",
       "      <td>37.1</td>\n",
       "      <td>32571</td>\n",
       "      <td>33.9</td>\n",
       "      <td>28.3</td>\n",
       "      <td>83609</td>\n",
       "      <td>6.2</td>\n",
       "      <td>11.8</td>\n",
       "      <td>8.5</td>\n",
       "      <td>D4</td>\n",
       "      <td>31258</td>\n",
       "      <td>South End</td>\n",
       "    </tr>\n",
       "    <tr>\n",
       "      <th>11</th>\n",
       "      <td>42.8</td>\n",
       "      <td>33526</td>\n",
       "      <td>18.1</td>\n",
       "      <td>46.2</td>\n",
       "      <td>47836</td>\n",
       "      <td>1.9</td>\n",
       "      <td>6.5</td>\n",
       "      <td>13.2</td>\n",
       "      <td>E5</td>\n",
       "      <td>9406</td>\n",
       "      <td>West Roxbury</td>\n",
       "    </tr>\n",
       "  </tbody>\n",
       "</table>\n",
       "</div>"
      ],
      "text/plain": [
       "    MEDIAN_AGE  TOTAL_POP  PERC_OF_30_34  PERC_MARRIED_COUPLE_FAMILY  \\\n",
       "0         30.8      55297           52.8                        26.4   \n",
       "1         35.7      19890           28.2                        36.4   \n",
       "2         33.4     126909           28.2                        26.6   \n",
       "3         33.5      18306           32.5                        35.8   \n",
       "4         30.6      47263           31.1                        30.4   \n",
       "5         39.4      38924           21.1                        38.4   \n",
       "6         34.8      40867           32.5                        33.7   \n",
       "7         36.7      26659           20.9                        29.8   \n",
       "8         32.5      54161           27.8                        17.8   \n",
       "9         31.9      36772           46.1                        24.7   \n",
       "10        37.1      32571           33.9                        28.3   \n",
       "11        42.8      33526           18.1                        46.2   \n",
       "\n",
       "    PER_CAPITA_INCOME  PERC_OTHER_STATE_OR_ABROAD  PERC_LESS_THAN_HIGH_SCHOOL  \\\n",
       "0               41261                         8.6                         6.7   \n",
       "1               75339                         3.4                         7.9   \n",
       "2               29767                         2.4                        18.0   \n",
       "3               80057                        14.8                        15.4   \n",
       "4               31473                         3.5                        27.2   \n",
       "5               32744                         1.9                        13.8   \n",
       "6               51655                         5.5                         8.0   \n",
       "7               28356                         2.3                        14.5   \n",
       "8               20978                         2.9                        23.0   \n",
       "9               64745                         2.4                         7.9   \n",
       "10              83609                         6.2                        11.8   \n",
       "11              47836                         1.9                         6.5   \n",
       "\n",
       "    PERC_COLLEGE_GRADUATES CODE  NB_INCIDENTS           NAME  \n",
       "0                     10.5  D14         13788       Brighton  \n",
       "1                      8.2  A15          4765    Charlestown  \n",
       "2                     17.1  C11         32875     Dorchester  \n",
       "3                      6.9   A1         26260       Downtown  \n",
       "4                     11.5   A7          9691    East Boston  \n",
       "5                     21.3  E18         12551      Hyde Park  \n",
       "6                     12.1  E13         12802  Jamaica Plain  \n",
       "7                     22.9   B3         28331       Mattapan  \n",
       "8                     18.9   B2         38877        Roxbury  \n",
       "9                      8.4   C6         16617   South Boston  \n",
       "10                     8.5   D4         31258      South End  \n",
       "11                    13.2   E5          9406   West Roxbury  "
      ]
     },
     "execution_count": 17,
     "metadata": {},
     "output_type": "execute_result"
    }
   ],
   "source": [
    "data"
   ]
  },
  {
   "cell_type": "markdown",
   "metadata": {},
   "source": [
    "### 1.4.2 Run the regression and output its summary"
   ]
  },
  {
   "cell_type": "markdown",
   "metadata": {},
   "source": [
    "Thanks to the Statsmodels Formula API, we will run the regression described below. \n",
    "\n",
    "The dependent variable (or target variable) should be **the total number of incidents** reported in each police district.\n",
    "\n",
    "We will focus on the following regressors: \n",
    "\n",
    "- the **median age** in the district, whose effect is difficult to anticipate on the number of crimes;\n",
    " \n",
    " \n",
    "- the **percentage of 30-34 years old** in the district, whose effect is also unclear a priori;\n",
    " \n",
    " \n",
    "- the **share of families with a married couple** among all households, which could be anticipated to have a negative effect on criminality (more attention to safety among residents...);\n",
    " \n",
    " \n",
    "- the **percentage of residents having moved from abroad or from another US state over the last year**, mobility being often associated with social marginalisation and possibly with a higher risk of resorting to illegal activities;\n",
    " \n",
    " \n",
    "- the **percentage of residents having stopped their studies before getting a high school degree**. Economic models would suggest that due to the more narrow job opportunities to which this group has access, the incentive is stronger to resort to illicit activities;\n",
    " \n",
    " \n",
    "- the **percentage of college graduates** in the district, which we would expect to have an opposite effect.\n",
    " \n",
    "**📝 Based on these indications, estimate the linear regression model and output its summary in this section of the notebook. Store the estimated model inside a `model` variable.**"
   ]
  },
  {
   "cell_type": "code",
   "execution_count": 18,
   "metadata": {
    "ExecuteTime": {
     "end_time": "2021-06-29T13:23:54.074252Z",
     "start_time": "2021-06-29T13:23:54.062385Z"
    }
   },
   "outputs": [
    {
     "data": {
      "text/html": [
       "<div>\n",
       "<style scoped>\n",
       "    .dataframe tbody tr th:only-of-type {\n",
       "        vertical-align: middle;\n",
       "    }\n",
       "\n",
       "    .dataframe tbody tr th {\n",
       "        vertical-align: top;\n",
       "    }\n",
       "\n",
       "    .dataframe thead th {\n",
       "        text-align: right;\n",
       "    }\n",
       "</style>\n",
       "<table border=\"1\" class=\"dataframe\">\n",
       "  <thead>\n",
       "    <tr style=\"text-align: right;\">\n",
       "      <th></th>\n",
       "      <th>MEDIAN_AGE</th>\n",
       "      <th>TOTAL_POP</th>\n",
       "      <th>PERC_OF_30_34</th>\n",
       "      <th>PERC_MARRIED_COUPLE_FAMILY</th>\n",
       "      <th>PER_CAPITA_INCOME</th>\n",
       "      <th>PERC_OTHER_STATE_OR_ABROAD</th>\n",
       "      <th>PERC_LESS_THAN_HIGH_SCHOOL</th>\n",
       "      <th>PERC_COLLEGE_GRADUATES</th>\n",
       "      <th>CODE</th>\n",
       "      <th>NB_INCIDENTS</th>\n",
       "      <th>NAME</th>\n",
       "    </tr>\n",
       "  </thead>\n",
       "  <tbody>\n",
       "    <tr>\n",
       "      <th>0</th>\n",
       "      <td>30.8</td>\n",
       "      <td>55297</td>\n",
       "      <td>52.8</td>\n",
       "      <td>26.4</td>\n",
       "      <td>41261</td>\n",
       "      <td>8.6</td>\n",
       "      <td>6.7</td>\n",
       "      <td>10.5</td>\n",
       "      <td>D14</td>\n",
       "      <td>13788</td>\n",
       "      <td>Brighton</td>\n",
       "    </tr>\n",
       "    <tr>\n",
       "      <th>1</th>\n",
       "      <td>35.7</td>\n",
       "      <td>19890</td>\n",
       "      <td>28.2</td>\n",
       "      <td>36.4</td>\n",
       "      <td>75339</td>\n",
       "      <td>3.4</td>\n",
       "      <td>7.9</td>\n",
       "      <td>8.2</td>\n",
       "      <td>A15</td>\n",
       "      <td>4765</td>\n",
       "      <td>Charlestown</td>\n",
       "    </tr>\n",
       "    <tr>\n",
       "      <th>2</th>\n",
       "      <td>33.4</td>\n",
       "      <td>126909</td>\n",
       "      <td>28.2</td>\n",
       "      <td>26.6</td>\n",
       "      <td>29767</td>\n",
       "      <td>2.4</td>\n",
       "      <td>18.0</td>\n",
       "      <td>17.1</td>\n",
       "      <td>C11</td>\n",
       "      <td>32875</td>\n",
       "      <td>Dorchester</td>\n",
       "    </tr>\n",
       "    <tr>\n",
       "      <th>3</th>\n",
       "      <td>33.5</td>\n",
       "      <td>18306</td>\n",
       "      <td>32.5</td>\n",
       "      <td>35.8</td>\n",
       "      <td>80057</td>\n",
       "      <td>14.8</td>\n",
       "      <td>15.4</td>\n",
       "      <td>6.9</td>\n",
       "      <td>A1</td>\n",
       "      <td>26260</td>\n",
       "      <td>Downtown</td>\n",
       "    </tr>\n",
       "    <tr>\n",
       "      <th>4</th>\n",
       "      <td>30.6</td>\n",
       "      <td>47263</td>\n",
       "      <td>31.1</td>\n",
       "      <td>30.4</td>\n",
       "      <td>31473</td>\n",
       "      <td>3.5</td>\n",
       "      <td>27.2</td>\n",
       "      <td>11.5</td>\n",
       "      <td>A7</td>\n",
       "      <td>9691</td>\n",
       "      <td>East Boston</td>\n",
       "    </tr>\n",
       "  </tbody>\n",
       "</table>\n",
       "</div>"
      ],
      "text/plain": [
       "   MEDIAN_AGE  TOTAL_POP  PERC_OF_30_34  PERC_MARRIED_COUPLE_FAMILY  \\\n",
       "0        30.8      55297           52.8                        26.4   \n",
       "1        35.7      19890           28.2                        36.4   \n",
       "2        33.4     126909           28.2                        26.6   \n",
       "3        33.5      18306           32.5                        35.8   \n",
       "4        30.6      47263           31.1                        30.4   \n",
       "\n",
       "   PER_CAPITA_INCOME  PERC_OTHER_STATE_OR_ABROAD  PERC_LESS_THAN_HIGH_SCHOOL  \\\n",
       "0              41261                         8.6                         6.7   \n",
       "1              75339                         3.4                         7.9   \n",
       "2              29767                         2.4                        18.0   \n",
       "3              80057                        14.8                        15.4   \n",
       "4              31473                         3.5                        27.2   \n",
       "\n",
       "   PERC_COLLEGE_GRADUATES CODE  NB_INCIDENTS         NAME  \n",
       "0                    10.5  D14         13788     Brighton  \n",
       "1                     8.2  A15          4765  Charlestown  \n",
       "2                    17.1  C11         32875   Dorchester  \n",
       "3                     6.9   A1         26260     Downtown  \n",
       "4                    11.5   A7          9691  East Boston  "
      ]
     },
     "execution_count": 18,
     "metadata": {},
     "output_type": "execute_result"
    }
   ],
   "source": [
    "data.head()"
   ]
  },
  {
   "cell_type": "code",
   "execution_count": 19,
   "metadata": {
    "ExecuteTime": {
     "end_time": "2021-06-29T13:23:54.103763Z",
     "start_time": "2021-06-29T13:23:54.075684Z"
    },
    "tags": [
     "challengify"
    ]
   },
   "outputs": [
    {
     "name": "stdout",
     "output_type": "stream",
     "text": [
      "                            OLS Regression Results                            \n",
      "==============================================================================\n",
      "Dep. Variable:           NB_INCIDENTS   R-squared:                       0.899\n",
      "Model:                            OLS   Adj. R-squared:                  0.777\n",
      "Method:                 Least Squares   F-statistic:                     7.391\n",
      "Date:                Tue, 29 Jun 2021   Prob (F-statistic):             0.0222\n",
      "Time:                        15:23:54   Log-Likelihood:                -114.59\n",
      "No. Observations:                  12   AIC:                             243.2\n",
      "Df Residuals:                       5   BIC:                             246.6\n",
      "Df Model:                           6                                         \n",
      "Covariance Type:            nonrobust                                         \n",
      "==============================================================================================\n",
      "                                 coef    std err          t      P>|t|      [0.025      0.975]\n",
      "----------------------------------------------------------------------------------------------\n",
      "Intercept                   1.358e+04   6.16e+04      0.220      0.834   -1.45e+05    1.72e+05\n",
      "MEDIAN_AGE                  2252.7344   1237.522      1.820      0.128    -928.416    5433.885\n",
      "PERC_OF_30_34               -532.9973    468.940     -1.137      0.307   -1738.447     672.452\n",
      "PERC_MARRIED_COUPLE_FAMILY -2115.1839    408.344     -5.180      0.004   -3164.866   -1065.502\n",
      "PERC_OTHER_STATE_OR_ABROAD  1787.6939    532.432      3.358      0.020     419.034    3156.354\n",
      "PERC_LESS_THAN_HIGH_SCHOOL   112.7375    493.977      0.228      0.829   -1157.072    1382.547\n",
      "PERC_COLLEGE_GRADUATES        19.4699    458.775      0.042      0.968   -1159.850    1198.790\n",
      "==============================================================================\n",
      "Omnibus:                        6.933   Durbin-Watson:                   2.255\n",
      "Prob(Omnibus):                  0.031   Jarque-Bera (JB):                3.155\n",
      "Skew:                           1.148   Prob(JB):                        0.206\n",
      "Kurtosis:                       4.020   Cond. No.                     2.42e+03\n",
      "==============================================================================\n",
      "\n",
      "Warnings:\n",
      "[1] Standard Errors assume that the covariance matrix of the errors is correctly specified.\n",
      "[2] The condition number is large, 2.42e+03. This might indicate that there are\n",
      "strong multicollinearity or other numerical problems.\n"
     ]
    },
    {
     "name": "stderr",
     "output_type": "stream",
     "text": [
      "/Users/blacl/.pyenv/versions/3.8.6/envs/lewagon/lib/python3.8/site-packages/scipy/stats/stats.py:1603: UserWarning: kurtosistest only valid for n>=20 ... continuing anyway, n=12\n",
      "  warnings.warn(\"kurtosistest only valid for n>=20 ... continuing \"\n"
     ]
    }
   ],
   "source": [
    "# YOUR CODE HERE\n",
    "import statsmodels.formula.api as smf\n",
    "model = smf.ols('NB_INCIDENTS ~ MEDIAN_AGE + PERC_OF_30_34 + PERC_MARRIED_COUPLE_FAMILY + PERC_OTHER_STATE_OR_ABROAD + PERC_LESS_THAN_HIGH_SCHOOL + PERC_COLLEGE_GRADUATES', data=data).fit()\n",
    "print(model.summary())"
   ]
  },
  {
   "cell_type": "markdown",
   "metadata": {},
   "source": [
    "### Save your results\n",
    "\n",
    "You can run the following cell to save your results:"
   ]
  },
  {
   "cell_type": "code",
   "execution_count": 20,
   "metadata": {
    "ExecuteTime": {
     "end_time": "2021-06-29T13:23:54.109171Z",
     "start_time": "2021-06-29T13:23:54.105258Z"
    }
   },
   "outputs": [],
   "source": [
    "ChallengeResult(\n",
    "    'linear_regression_model',\n",
    "    data=data,\n",
    "    model=model\n",
    ").write()"
   ]
  },
  {
   "cell_type": "markdown",
   "metadata": {},
   "source": [
    "### 1.4.3 Statistical inference questions 🤯"
   ]
  },
  {
   "cell_type": "markdown",
   "metadata": {},
   "source": [
    "You will now be asked a series of statistical inference and methodological questions about the regression model estimated above. Don't worry if results do not perfectly fit the \"predictions\" that we made earlier about the impact of each regressor: the goal was to form an *a priori* hypothesis, which is validated or invalidated through this empirical analysis."
   ]
  },
  {
   "cell_type": "markdown",
   "metadata": {},
   "source": [
    "#### Questions on the results"
   ]
  },
  {
   "cell_type": "markdown",
   "metadata": {},
   "source": [
    "**❓ Is the median age associated with a positive (increasing the number of crimes) or a negative (decreasing the target variable) effect on the number of crime incidents? Simply write your answer as a string below**"
   ]
  },
  {
   "cell_type": "code",
   "execution_count": 21,
   "metadata": {
    "ExecuteTime": {
     "end_time": "2021-06-29T13:23:54.113352Z",
     "start_time": "2021-06-29T13:23:54.111132Z"
    }
   },
   "outputs": [],
   "source": [
    "answer_median_age = '''\n",
    "positive\n",
    "'''"
   ]
  },
  {
   "cell_type": "markdown",
   "metadata": {},
   "source": [
    "**❓ What is the t-statistic associated with the median age regressor? How is it computed?**\n",
    "\n",
    "💡 Hint: We are looking at a ratio"
   ]
  },
  {
   "cell_type": "code",
   "execution_count": 22,
   "metadata": {
    "ExecuteTime": {
     "end_time": "2021-06-29T13:23:54.117351Z",
     "start_time": "2021-06-29T13:23:54.115389Z"
    }
   },
   "outputs": [],
   "source": [
    "answer_t_statistic = '''\n",
    "It is 1.82. It is computed as the coef estimate divided by the standard dev\n",
    "'''"
   ]
  },
  {
   "cell_type": "markdown",
   "metadata": {},
   "source": [
    "**📝 Recompute approximately the t-statistic based on the regression summary.**\n",
    "\n",
    "As it is a ratio $t = \\frac{numerator}{denominator}$:\n",
    "- Store the numerator into a `numerator` variable\n",
    "- Store the denominator into a `denominator` variable\n",
    "- Store the t-statistic into a `t_median_age` variable"
   ]
  },
  {
   "cell_type": "code",
   "execution_count": 23,
   "metadata": {
    "ExecuteTime": {
     "end_time": "2021-06-29T13:23:54.126292Z",
     "start_time": "2021-06-29T13:23:54.123403Z"
    },
    "tags": [
     "challengify"
    ]
   },
   "outputs": [
    {
     "data": {
      "text/plain": [
       "1.8203590724043692"
      ]
     },
     "execution_count": 23,
     "metadata": {},
     "output_type": "execute_result"
    }
   ],
   "source": [
    "# YOUR CODE HERE\n",
    "numerator = 2252.7344\n",
    "denominator = 1237.522\n",
    "t_median_age = numerator / denominator\n",
    "t_median_age"
   ]
  },
  {
   "cell_type": "markdown",
   "metadata": {},
   "source": [
    "**❓ What is the p-value associated with the median age regressor? Store it in the `pvalue_median_age` variable (you may directly copy-paste it from the regression summary).** "
   ]
  },
  {
   "cell_type": "code",
   "execution_count": 24,
   "metadata": {
    "ExecuteTime": {
     "end_time": "2021-06-29T13:23:54.132221Z",
     "start_time": "2021-06-29T13:23:54.130368Z"
    },
    "tags": [
     "challengify"
    ]
   },
   "outputs": [],
   "source": [
    "# YOUR CODE HERE\n",
    "pvalue_median_age = 0.128"
   ]
  },
  {
   "cell_type": "markdown",
   "metadata": {},
   "source": [
    "**❓ What does this p-value mean for the median age? Is its effect statistically significant at the 95% confidence level? At the 90% confidence level? Simply formulate your answer in the cell below.**"
   ]
  },
  {
   "cell_type": "code",
   "execution_count": 25,
   "metadata": {
    "ExecuteTime": {
     "end_time": "2021-06-29T13:23:54.135618Z",
     "start_time": "2021-06-29T13:23:54.133802Z"
    }
   },
   "outputs": [],
   "source": [
    "answer_p_value = \"\"\"\n",
    "The median age is not statistically significant at the 95% level (as the p-value is not smaller than 5%) and not statistically significant at the 90% level (as the p-value is not smaller than 10%)\n",
    "\"\"\""
   ]
  },
  {
   "cell_type": "markdown",
   "metadata": {},
   "source": [
    "**❓ What are the two regressors whose effect is statistically significant at the 95% confidence level in this regression model? Store the name of the variables as a list of strings in the `significant_regressors` variable.**"
   ]
  },
  {
   "cell_type": "code",
   "execution_count": 26,
   "metadata": {
    "ExecuteTime": {
     "end_time": "2021-06-29T13:23:54.138923Z",
     "start_time": "2021-06-29T13:23:54.137010Z"
    },
    "tags": [
     "challengify"
    ]
   },
   "outputs": [],
   "source": [
    "# YOUR CODE HERE\n",
    "significant_regressors = [\"PERC_MARRIED_COUPLE_FAMILY\", \"PERC_OTHER_STATE_OR_ABROAD\"]"
   ]
  },
  {
   "cell_type": "markdown",
   "metadata": {},
   "source": [
    "**❓ Holding all other regressors constant, by how much does the total number of incidents increase or decrease when the share of families with a married couple increases by 1 percentage point in the district? Please formulate a full sentence with statistical rigor!**"
   ]
  },
  {
   "cell_type": "code",
   "execution_count": 27,
   "metadata": {
    "ExecuteTime": {
     "end_time": "2021-06-29T13:23:54.142197Z",
     "start_time": "2021-06-29T13:23:54.140359Z"
    }
   },
   "outputs": [],
   "source": [
    "answer_how_much_increase = \"\"\"\n",
    "Holding all other regressors constant, when the share of families with a married couple increases by 1 percentage point in the district, the total number of incidents is estimated to decrease by 2115\n",
    "\"\"\""
   ]
  },
  {
   "cell_type": "markdown",
   "metadata": {},
   "source": [
    "#### Limits of this regression model"
   ]
  },
  {
   "cell_type": "markdown",
   "metadata": {},
   "source": [
    "You had asked the intern on the team to estimate a linear regression model so as to investigate the socio-economic determinants of crime in Boston. The results above are those that he presented. In the email he sent to you, he added:\n",
    "\n",
    "> *You will probably notice the extremely high R-squared score of this model: I think we have an excellent fit and the results are solid* 😄\n",
    "\n",
    "But you have very strong doubts about this regression and you think it is a perfect occasion to give some very important advice to your intern..."
   ]
  },
  {
   "cell_type": "markdown",
   "metadata": {},
   "source": [
    "**❓  What is the main limitation of this (clearly spurious) regression according to you? This observation explains why we are getting a very high R-squared and large standard errors. Please provide your answer in the following Markdown cell.**"
   ]
  },
  {
   "cell_type": "code",
   "execution_count": 28,
   "metadata": {
    "ExecuteTime": {
     "end_time": "2021-06-29T13:23:54.145397Z",
     "start_time": "2021-06-29T13:23:54.143603Z"
    }
   },
   "outputs": [],
   "source": [
    "answer_limitations = \"\"\"\n",
    "Some explanatory variables are not independent. For ex. the share of people with less than a high school diploma is not independent from the share of people with a college degree\n",
    "\"\"\""
   ]
  },
  {
   "cell_type": "markdown",
   "metadata": {},
   "source": [
    "### Save your results\n",
    "\n",
    "You can run the following cell to save your results:"
   ]
  },
  {
   "cell_type": "code",
   "execution_count": 29,
   "metadata": {
    "ExecuteTime": {
     "end_time": "2021-06-29T13:23:54.151871Z",
     "start_time": "2021-06-29T13:23:54.146742Z"
    }
   },
   "outputs": [],
   "source": [
    "import json\n",
    "answers_inference = {\"MEDIAN_AGE\": answer_median_age,\n",
    "                    \"T_STAT\":answer_t_statistic,\n",
    "                     \"P_VALUE\": answer_p_value,\n",
    "                     \"INCREASE\": answer_how_much_increase,\n",
    "                     \"LIMITATIONS\": answer_limitations}\n",
    "\n",
    "with open(\"tests/answers_inference.json\", \"w\", encoding=\"utf-8\") as f:\n",
    "    json.dump(answers_inference, f, ensure_ascii=False, indent=4)\n",
    "\n",
    "ChallengeResult(\n",
    "    'linear_regression_analysis',\n",
    "    model=model,\n",
    "    numerator=numerator,\n",
    "    denominator=denominator,\n",
    "    t=t_median_age,\n",
    "    pvalue=pvalue_median_age,\n",
    "    regressors=significant_regressors\n",
    ").write()"
   ]
  },
  {
   "cell_type": "markdown",
   "metadata": {},
   "source": [
    "# 2. Analysis for the police department"
   ]
  },
  {
   "cell_type": "markdown",
   "metadata": {},
   "source": [
    "The head of the Police Department of Boston, who read your report for the Mayor's team, was extremely interested in the results. He contacted your consulting firm for an additional presentation, that would focus on the nature of crimes that take place in Boston, the potential time trends that you could identify and/or the heterogeneity of the impact of criminality on the different police districts. "
   ]
  },
  {
   "cell_type": "markdown",
   "metadata": {},
   "source": [
    "## 2.1 Start with a fresh dataset"
   ]
  },
  {
   "cell_type": "markdown",
   "metadata": {},
   "source": [
    "You will start from a fresh dataset, that corresponds more or less to the `incident_reports` table of the database."
   ]
  },
  {
   "cell_type": "code",
   "execution_count": 30,
   "metadata": {
    "ExecuteTime": {
     "end_time": "2021-06-29T13:23:55.276162Z",
     "start_time": "2021-06-29T13:23:54.153803Z"
    }
   },
   "outputs": [
    {
     "name": "stdout",
     "output_type": "stream",
     "text": [
      "  % Total    % Received % Xferd  Average Speed   Time    Time     Time  Current\n",
      "                                 Dload  Upload   Total   Spent    Left  Speed\n",
      "100 19.1M  100 19.1M    0     0  26.3M      0 --:--:-- --:--:-- --:--:-- 26.2M\n",
      "  % Total    % Received % Xferd  Average Speed   Time    Time     Time  Current\n",
      "                                 Dload  Upload   Total   Spent    Left  Speed\n",
      "100   498  100   498    0     0   3582      0 --:--:-- --:--:-- --:--:--  3582\n"
     ]
    }
   ],
   "source": [
    "# Run this cell to download the datasets in the data directory\n",
    "!curl https://wagon-public-datasets.s3.amazonaws.com/certification_france_2021_q2/incident_reports.csv > data/incident_reports.csv   \n",
    "!curl https://wagon-public-datasets.s3.amazonaws.com/certification_france_2021_q2/districts.csv > data/districts.csv    "
   ]
  },
  {
   "cell_type": "code",
   "execution_count": 31,
   "metadata": {
    "ExecuteTime": {
     "end_time": "2021-06-29T13:23:55.804206Z",
     "start_time": "2021-06-29T13:23:55.278819Z"
    }
   },
   "outputs": [
    {
     "name": "stdout",
     "output_type": "stream",
     "text": [
      "Shape of the DataFrame: (237221, 9)\n"
     ]
    },
    {
     "data": {
      "text/html": [
       "<div>\n",
       "<style scoped>\n",
       "    .dataframe tbody tr th:only-of-type {\n",
       "        vertical-align: middle;\n",
       "    }\n",
       "\n",
       "    .dataframe tbody tr th {\n",
       "        vertical-align: top;\n",
       "    }\n",
       "\n",
       "    .dataframe thead th {\n",
       "        text-align: right;\n",
       "    }\n",
       "</style>\n",
       "<table border=\"1\" class=\"dataframe\">\n",
       "  <thead>\n",
       "    <tr style=\"text-align: right;\">\n",
       "      <th></th>\n",
       "      <th>INCIDENT_NUMBER</th>\n",
       "      <th>OFFENSE_CODE_GROUP</th>\n",
       "      <th>SHOOTING</th>\n",
       "      <th>OCCURRED_ON_DATE</th>\n",
       "      <th>LAT</th>\n",
       "      <th>LONG</th>\n",
       "      <th>NAME</th>\n",
       "      <th>LAT_POLICE_STATION</th>\n",
       "      <th>LONG_POLICE_STATION</th>\n",
       "    </tr>\n",
       "  </thead>\n",
       "  <tbody>\n",
       "    <tr>\n",
       "      <th>0</th>\n",
       "      <td>I192068249</td>\n",
       "      <td>Other</td>\n",
       "      <td>0</td>\n",
       "      <td>2015-08-28 10:20:00</td>\n",
       "      <td>42.330119</td>\n",
       "      <td>-71.084251</td>\n",
       "      <td>Roxbury</td>\n",
       "      <td>42.328894</td>\n",
       "      <td>-71.085359</td>\n",
       "    </tr>\n",
       "    <tr>\n",
       "      <th>1</th>\n",
       "      <td>I182074094</td>\n",
       "      <td>Violence and harassment</td>\n",
       "      <td>0</td>\n",
       "      <td>2015-09-14 09:31:00</td>\n",
       "      <td>42.315142</td>\n",
       "      <td>-71.067047</td>\n",
       "      <td>Roxbury</td>\n",
       "      <td>42.328894</td>\n",
       "      <td>-71.085359</td>\n",
       "    </tr>\n",
       "    <tr>\n",
       "      <th>2</th>\n",
       "      <td>I182054888</td>\n",
       "      <td>Violence and harassment</td>\n",
       "      <td>0</td>\n",
       "      <td>2015-07-12 15:37:00</td>\n",
       "      <td>42.312243</td>\n",
       "      <td>-71.075499</td>\n",
       "      <td>Roxbury</td>\n",
       "      <td>42.328894</td>\n",
       "      <td>-71.085359</td>\n",
       "    </tr>\n",
       "    <tr>\n",
       "      <th>3</th>\n",
       "      <td>I182054888</td>\n",
       "      <td>Other</td>\n",
       "      <td>0</td>\n",
       "      <td>2015-07-12 15:37:00</td>\n",
       "      <td>42.312243</td>\n",
       "      <td>-71.075499</td>\n",
       "      <td>Roxbury</td>\n",
       "      <td>42.328894</td>\n",
       "      <td>-71.085359</td>\n",
       "    </tr>\n",
       "    <tr>\n",
       "      <th>4</th>\n",
       "      <td>I182054888</td>\n",
       "      <td>Other</td>\n",
       "      <td>0</td>\n",
       "      <td>2015-07-12 15:37:00</td>\n",
       "      <td>42.312243</td>\n",
       "      <td>-71.075499</td>\n",
       "      <td>Roxbury</td>\n",
       "      <td>42.328894</td>\n",
       "      <td>-71.085359</td>\n",
       "    </tr>\n",
       "  </tbody>\n",
       "</table>\n",
       "</div>"
      ],
      "text/plain": [
       "  INCIDENT_NUMBER       OFFENSE_CODE_GROUP  SHOOTING     OCCURRED_ON_DATE  \\\n",
       "0      I192068249                    Other         0  2015-08-28 10:20:00   \n",
       "1      I182074094  Violence and harassment         0  2015-09-14 09:31:00   \n",
       "2      I182054888  Violence and harassment         0  2015-07-12 15:37:00   \n",
       "3      I182054888                    Other         0  2015-07-12 15:37:00   \n",
       "4      I182054888                    Other         0  2015-07-12 15:37:00   \n",
       "\n",
       "         LAT       LONG     NAME  LAT_POLICE_STATION  LONG_POLICE_STATION  \n",
       "0  42.330119 -71.084251  Roxbury           42.328894           -71.085359  \n",
       "1  42.315142 -71.067047  Roxbury           42.328894           -71.085359  \n",
       "2  42.312243 -71.075499  Roxbury           42.328894           -71.085359  \n",
       "3  42.312243 -71.075499  Roxbury           42.328894           -71.085359  \n",
       "4  42.312243 -71.075499  Roxbury           42.328894           -71.085359  "
      ]
     },
     "execution_count": 31,
     "metadata": {},
     "output_type": "execute_result"
    }
   ],
   "source": [
    "# Load the dataset\n",
    "from data import load_data_viz_data\n",
    "\n",
    "data = load_data_viz_data()\n",
    "data[['LAT','LONG']] = data[['LAT','LONG']].astype('float64')\n",
    "\n",
    "print(\"Shape of the DataFrame:\", data.shape)\n",
    "\n",
    "data.head()"
   ]
  },
  {
   "cell_type": "code",
   "execution_count": 94,
   "metadata": {
    "ExecuteTime": {
     "end_time": "2021-06-29T15:44:49.353666Z",
     "start_time": "2021-06-29T15:44:48.993882Z"
    }
   },
   "outputs": [],
   "source": [
    "data.drop_duplicates(inplace=True)"
   ]
  },
  {
   "cell_type": "code",
   "execution_count": 95,
   "metadata": {
    "ExecuteTime": {
     "end_time": "2021-06-29T15:44:53.334773Z",
     "start_time": "2021-06-29T15:44:53.331195Z"
    }
   },
   "outputs": [
    {
     "data": {
      "text/plain": [
       "(225884, 10)"
      ]
     },
     "execution_count": 95,
     "metadata": {},
     "output_type": "execute_result"
    }
   ],
   "source": [
    "data.shape"
   ]
  },
  {
   "cell_type": "markdown",
   "metadata": {},
   "source": [
    "## 2.1 Further data manipulations"
   ]
  },
  {
   "cell_type": "markdown",
   "metadata": {},
   "source": [
    "In this section, we are going to answer two specific questions that the head of the Police Department of Boston asked your team, about the characteristics of the incidents that occur in the various districts of the municipality."
   ]
  },
  {
   "cell_type": "markdown",
   "metadata": {},
   "source": [
    "### 2.1.1 Most represented type of incident per district"
   ]
  },
  {
   "cell_type": "markdown",
   "metadata": {},
   "source": [
    "First, the head of the Police Department of Boston wants to know what incident category is most often found in each district. \n",
    "\n",
    "**📝 Construct a DataFrame with**\n",
    "- **one row per police district, designated by its full name**\n",
    "- **one text column that indicates the name of the most common category of incident in the district over the whole sample period.**\n",
    "\n",
    "💡 Hint: you may need to first define a custom aggregation function."
   ]
  },
  {
   "cell_type": "code",
   "execution_count": 96,
   "metadata": {
    "ExecuteTime": {
     "end_time": "2021-06-29T15:45:00.003214Z",
     "start_time": "2021-06-29T15:44:59.961124Z"
    },
    "scrolled": true,
    "tags": [
     "challengify"
    ]
   },
   "outputs": [
    {
     "data": {
      "text/plain": [
       "NAME\n",
       "Brighton                  Larceny and vandalism\n",
       "Charlestown               Larceny and vandalism\n",
       "Dorchester                Larceny and vandalism\n",
       "Downtown                  Larceny and vandalism\n",
       "East Boston               Larceny and vandalism\n",
       "Hyde Park                 Larceny and vandalism\n",
       "Jamaica Plain             Larceny and vandalism\n",
       "Mattapan         Police investigation procedure\n",
       "Roxbury                   Larceny and vandalism\n",
       "South Boston              Larceny and vandalism\n",
       "South End                 Larceny and vandalism\n",
       "West Roxbury              Larceny and vandalism\n",
       "Name: OFFENSE_CODE_GROUP, dtype: object"
      ]
     },
     "execution_count": 96,
     "metadata": {},
     "output_type": "execute_result"
    }
   ],
   "source": [
    "# YOUR CODE HERE\n",
    "most_frequent = data.groupby(['NAME'])['OFFENSE_CODE_GROUP'].agg(pd.Series.mode)\n",
    "most_frequent"
   ]
  },
  {
   "cell_type": "markdown",
   "metadata": {},
   "source": [
    "**❓ Can you tell what is the second most common offense int the Brighton district?**"
   ]
  },
  {
   "cell_type": "code",
   "execution_count": 97,
   "metadata": {
    "ExecuteTime": {
     "end_time": "2021-06-29T15:45:03.557827Z",
     "start_time": "2021-06-29T15:45:03.510498Z"
    }
   },
   "outputs": [
    {
     "data": {
      "text/plain": [
       "NAME\n",
       "Brighton         Police investigation procedure\n",
       "Charlestown      Police investigation procedure\n",
       "Dorchester       Police investigation procedure\n",
       "Downtown         Police investigation procedure\n",
       "East Boston      Police investigation procedure\n",
       "Hyde Park        Police investigation procedure\n",
       "Jamaica Plain    Police investigation procedure\n",
       "Mattapan                  Larceny and vandalism\n",
       "Roxbury          Police investigation procedure\n",
       "South Boston     Police investigation procedure\n",
       "South End        Police investigation procedure\n",
       "West Roxbury     Police investigation procedure\n",
       "Name: OFFENSE_CODE_GROUP, dtype: object"
      ]
     },
     "execution_count": 97,
     "metadata": {},
     "output_type": "execute_result"
    }
   ],
   "source": [
    "second_most_frequent = data.groupby(['NAME'])['OFFENSE_CODE_GROUP'].agg(lambda x:x.value_counts().index[1])\n",
    "second_most_frequent"
   ]
  },
  {
   "cell_type": "code",
   "execution_count": 98,
   "metadata": {
    "ExecuteTime": {
     "end_time": "2021-06-29T15:45:06.345014Z",
     "start_time": "2021-06-29T15:45:06.342502Z"
    }
   },
   "outputs": [],
   "source": [
    "second_most_common_offence = \"Police investigation procedure\""
   ]
  },
  {
   "cell_type": "markdown",
   "metadata": {},
   "source": [
    "### Average distance to the police station per district"
   ]
  },
  {
   "cell_type": "markdown",
   "metadata": {},
   "source": [
    "Second, based on the Haversine distance function defined below, the head of the Police Department would like to know, for each district, **the average distance between the location of the incident and the police station**. \n",
    "\n",
    "**📝 Construct a DataFrame with one row per police district, designated by its full name, and one column that displays this average Haversine distance.**"
   ]
  },
  {
   "cell_type": "code",
   "execution_count": 35,
   "metadata": {
    "ExecuteTime": {
     "end_time": "2021-06-29T13:23:55.919481Z",
     "start_time": "2021-06-29T13:23:55.915463Z"
    }
   },
   "outputs": [],
   "source": [
    "# Haversine distance function\n",
    "from math import radians, sin, cos, asin, sqrt\n",
    "\n",
    "def haversine_distance(lon1, lat1, lon2, lat2):\n",
    "    \"\"\"\n",
    "    Compute distance (km) between two pairs of (lat, lng) coordinates\n",
    "    See - (https://en.wikipedia.org/wiki/Haversine_formula)\n",
    "    \"\"\"\n",
    "    \n",
    "    lon1, lat1, lon2, lat2 = map(radians, [lon1, lat1, lon2, lat2])\n",
    "    dlon = lon2 - lon1\n",
    "    dlat = lat2 - lat1\n",
    "    \n",
    "    a = sin(dlat / 2) ** 2 + cos(lat1) * cos(lat2) * sin(dlon / 2) ** 2\n",
    "    \n",
    "    return 2 * 6371 * asin(sqrt(a))"
   ]
  },
  {
   "cell_type": "code",
   "execution_count": 36,
   "metadata": {
    "ExecuteTime": {
     "end_time": "2021-06-29T13:23:55.932715Z",
     "start_time": "2021-06-29T13:23:55.921252Z"
    }
   },
   "outputs": [],
   "source": [
    "data[\"LONG\"] = pd.to_numeric(data[\"LONG\"], downcast=\"float\")\n",
    "data[\"LAT\"] = pd.to_numeric(data[\"LAT\"], downcast=\"float\")\n",
    "data[\"LONG_POLICE_STATION\"] = pd.to_numeric(data[\"LONG_POLICE_STATION\"], downcast=\"float\")\n",
    "data[\"LAT_POLICE_STATION\"] = pd.to_numeric(data[\"LAT_POLICE_STATION\"], downcast=\"float\")\n"
   ]
  },
  {
   "cell_type": "code",
   "execution_count": 37,
   "metadata": {
    "ExecuteTime": {
     "end_time": "2021-06-29T13:23:55.938310Z",
     "start_time": "2021-06-29T13:23:55.934799Z"
    },
    "tags": [
     "challengify"
    ]
   },
   "outputs": [],
   "source": [
    "# YOUR CODE HERE\n",
    "data['Distance'] = 1"
   ]
  },
  {
   "cell_type": "code",
   "execution_count": 38,
   "metadata": {
    "ExecuteTime": {
     "end_time": "2021-06-29T13:25:31.064598Z",
     "start_time": "2021-06-29T13:23:55.940264Z"
    }
   },
   "outputs": [
    {
     "name": "stderr",
     "output_type": "stream",
     "text": [
      "/Users/blacl/.pyenv/versions/3.8.6/envs/lewagon/lib/python3.8/site-packages/pandas/core/indexing.py:1637: SettingWithCopyWarning: \n",
      "A value is trying to be set on a copy of a slice from a DataFrame\n",
      "\n",
      "See the caveats in the documentation: https://pandas.pydata.org/pandas-docs/stable/user_guide/indexing.html#returning-a-view-versus-a-copy\n",
      "  self._setitem_single_block(indexer, value, name)\n"
     ]
    }
   ],
   "source": [
    "for i in range(len(data)):\n",
    "    data['Distance'].iloc[i] = haversine_distance(data['LONG'].iloc[i], data['LAT'].iloc[i], data['LONG_POLICE_STATION'].iloc[i], data['LAT_POLICE_STATION'].iloc[i])"
   ]
  },
  {
   "cell_type": "code",
   "execution_count": 39,
   "metadata": {
    "ExecuteTime": {
     "end_time": "2021-06-29T13:25:31.086813Z",
     "start_time": "2021-06-29T13:25:31.067198Z"
    }
   },
   "outputs": [
    {
     "data": {
      "text/html": [
       "<div>\n",
       "<style scoped>\n",
       "    .dataframe tbody tr th:only-of-type {\n",
       "        vertical-align: middle;\n",
       "    }\n",
       "\n",
       "    .dataframe tbody tr th {\n",
       "        vertical-align: top;\n",
       "    }\n",
       "\n",
       "    .dataframe thead th {\n",
       "        text-align: right;\n",
       "    }\n",
       "</style>\n",
       "<table border=\"1\" class=\"dataframe\">\n",
       "  <thead>\n",
       "    <tr style=\"text-align: right;\">\n",
       "      <th></th>\n",
       "      <th>INCIDENT_NUMBER</th>\n",
       "      <th>OFFENSE_CODE_GROUP</th>\n",
       "      <th>SHOOTING</th>\n",
       "      <th>OCCURRED_ON_DATE</th>\n",
       "      <th>LAT</th>\n",
       "      <th>LONG</th>\n",
       "      <th>NAME</th>\n",
       "      <th>LAT_POLICE_STATION</th>\n",
       "      <th>LONG_POLICE_STATION</th>\n",
       "      <th>Distance</th>\n",
       "    </tr>\n",
       "  </thead>\n",
       "  <tbody>\n",
       "    <tr>\n",
       "      <th>0</th>\n",
       "      <td>I192068249</td>\n",
       "      <td>Other</td>\n",
       "      <td>0</td>\n",
       "      <td>2015-08-28 10:20:00</td>\n",
       "      <td>42.330120</td>\n",
       "      <td>-71.084251</td>\n",
       "      <td>Roxbury</td>\n",
       "      <td>42.328896</td>\n",
       "      <td>-71.085358</td>\n",
       "      <td>0.163737</td>\n",
       "    </tr>\n",
       "    <tr>\n",
       "      <th>1</th>\n",
       "      <td>I182074094</td>\n",
       "      <td>Violence and harassment</td>\n",
       "      <td>0</td>\n",
       "      <td>2015-09-14 09:31:00</td>\n",
       "      <td>42.315144</td>\n",
       "      <td>-71.067047</td>\n",
       "      <td>Roxbury</td>\n",
       "      <td>42.328896</td>\n",
       "      <td>-71.085358</td>\n",
       "      <td>2.145811</td>\n",
       "    </tr>\n",
       "    <tr>\n",
       "      <th>2</th>\n",
       "      <td>I182054888</td>\n",
       "      <td>Violence and harassment</td>\n",
       "      <td>0</td>\n",
       "      <td>2015-07-12 15:37:00</td>\n",
       "      <td>42.312244</td>\n",
       "      <td>-71.075500</td>\n",
       "      <td>Roxbury</td>\n",
       "      <td>42.328896</td>\n",
       "      <td>-71.085358</td>\n",
       "      <td>2.021119</td>\n",
       "    </tr>\n",
       "    <tr>\n",
       "      <th>3</th>\n",
       "      <td>I182054888</td>\n",
       "      <td>Other</td>\n",
       "      <td>0</td>\n",
       "      <td>2015-07-12 15:37:00</td>\n",
       "      <td>42.312244</td>\n",
       "      <td>-71.075500</td>\n",
       "      <td>Roxbury</td>\n",
       "      <td>42.328896</td>\n",
       "      <td>-71.085358</td>\n",
       "      <td>2.021119</td>\n",
       "    </tr>\n",
       "    <tr>\n",
       "      <th>4</th>\n",
       "      <td>I182054888</td>\n",
       "      <td>Other</td>\n",
       "      <td>0</td>\n",
       "      <td>2015-07-12 15:37:00</td>\n",
       "      <td>42.312244</td>\n",
       "      <td>-71.075500</td>\n",
       "      <td>Roxbury</td>\n",
       "      <td>42.328896</td>\n",
       "      <td>-71.085358</td>\n",
       "      <td>2.021119</td>\n",
       "    </tr>\n",
       "    <tr>\n",
       "      <th>...</th>\n",
       "      <td>...</td>\n",
       "      <td>...</td>\n",
       "      <td>...</td>\n",
       "      <td>...</td>\n",
       "      <td>...</td>\n",
       "      <td>...</td>\n",
       "      <td>...</td>\n",
       "      <td>...</td>\n",
       "      <td>...</td>\n",
       "      <td>...</td>\n",
       "    </tr>\n",
       "    <tr>\n",
       "      <th>237216</th>\n",
       "      <td>I172049757</td>\n",
       "      <td>Police investigation procedure</td>\n",
       "      <td>0</td>\n",
       "      <td>2018-08-09 18:00:00</td>\n",
       "      <td>42.355217</td>\n",
       "      <td>-71.060127</td>\n",
       "      <td>Charlestown</td>\n",
       "      <td>42.361801</td>\n",
       "      <td>-71.060303</td>\n",
       "      <td>0.732268</td>\n",
       "    </tr>\n",
       "    <tr>\n",
       "      <th>237217</th>\n",
       "      <td>I172049757</td>\n",
       "      <td>Drugs and disorderly conduct</td>\n",
       "      <td>0</td>\n",
       "      <td>2018-08-09 18:00:00</td>\n",
       "      <td>42.355217</td>\n",
       "      <td>-71.060127</td>\n",
       "      <td>Charlestown</td>\n",
       "      <td>42.361801</td>\n",
       "      <td>-71.060303</td>\n",
       "      <td>0.732268</td>\n",
       "    </tr>\n",
       "    <tr>\n",
       "      <th>237218</th>\n",
       "      <td>I172027369</td>\n",
       "      <td>Other</td>\n",
       "      <td>0</td>\n",
       "      <td>2018-12-12 05:00:00</td>\n",
       "      <td>42.376850</td>\n",
       "      <td>-71.068871</td>\n",
       "      <td>Charlestown</td>\n",
       "      <td>42.361801</td>\n",
       "      <td>-71.060303</td>\n",
       "      <td>1.815378</td>\n",
       "    </tr>\n",
       "    <tr>\n",
       "      <th>237219</th>\n",
       "      <td>I172027369</td>\n",
       "      <td>Police investigation procedure</td>\n",
       "      <td>0</td>\n",
       "      <td>2018-12-12 05:00:00</td>\n",
       "      <td>42.376850</td>\n",
       "      <td>-71.068871</td>\n",
       "      <td>Charlestown</td>\n",
       "      <td>42.361801</td>\n",
       "      <td>-71.060303</td>\n",
       "      <td>1.815378</td>\n",
       "    </tr>\n",
       "    <tr>\n",
       "      <th>237220</th>\n",
       "      <td>I172027369</td>\n",
       "      <td>Violence and harassment</td>\n",
       "      <td>0</td>\n",
       "      <td>2018-12-12 05:00:00</td>\n",
       "      <td>42.376850</td>\n",
       "      <td>-71.068871</td>\n",
       "      <td>Charlestown</td>\n",
       "      <td>42.361801</td>\n",
       "      <td>-71.060303</td>\n",
       "      <td>1.815378</td>\n",
       "    </tr>\n",
       "  </tbody>\n",
       "</table>\n",
       "<p>237221 rows × 10 columns</p>\n",
       "</div>"
      ],
      "text/plain": [
       "       INCIDENT_NUMBER              OFFENSE_CODE_GROUP  SHOOTING  \\\n",
       "0           I192068249                           Other         0   \n",
       "1           I182074094         Violence and harassment         0   \n",
       "2           I182054888         Violence and harassment         0   \n",
       "3           I182054888                           Other         0   \n",
       "4           I182054888                           Other         0   \n",
       "...                ...                             ...       ...   \n",
       "237216      I172049757  Police investigation procedure         0   \n",
       "237217      I172049757    Drugs and disorderly conduct         0   \n",
       "237218      I172027369                           Other         0   \n",
       "237219      I172027369  Police investigation procedure         0   \n",
       "237220      I172027369         Violence and harassment         0   \n",
       "\n",
       "           OCCURRED_ON_DATE        LAT       LONG         NAME  \\\n",
       "0       2015-08-28 10:20:00  42.330120 -71.084251      Roxbury   \n",
       "1       2015-09-14 09:31:00  42.315144 -71.067047      Roxbury   \n",
       "2       2015-07-12 15:37:00  42.312244 -71.075500      Roxbury   \n",
       "3       2015-07-12 15:37:00  42.312244 -71.075500      Roxbury   \n",
       "4       2015-07-12 15:37:00  42.312244 -71.075500      Roxbury   \n",
       "...                     ...        ...        ...          ...   \n",
       "237216  2018-08-09 18:00:00  42.355217 -71.060127  Charlestown   \n",
       "237217  2018-08-09 18:00:00  42.355217 -71.060127  Charlestown   \n",
       "237218  2018-12-12 05:00:00  42.376850 -71.068871  Charlestown   \n",
       "237219  2018-12-12 05:00:00  42.376850 -71.068871  Charlestown   \n",
       "237220  2018-12-12 05:00:00  42.376850 -71.068871  Charlestown   \n",
       "\n",
       "        LAT_POLICE_STATION  LONG_POLICE_STATION  Distance  \n",
       "0                42.328896           -71.085358  0.163737  \n",
       "1                42.328896           -71.085358  2.145811  \n",
       "2                42.328896           -71.085358  2.021119  \n",
       "3                42.328896           -71.085358  2.021119  \n",
       "4                42.328896           -71.085358  2.021119  \n",
       "...                    ...                  ...       ...  \n",
       "237216           42.361801           -71.060303  0.732268  \n",
       "237217           42.361801           -71.060303  0.732268  \n",
       "237218           42.361801           -71.060303  1.815378  \n",
       "237219           42.361801           -71.060303  1.815378  \n",
       "237220           42.361801           -71.060303  1.815378  \n",
       "\n",
       "[237221 rows x 10 columns]"
      ]
     },
     "execution_count": 39,
     "metadata": {},
     "output_type": "execute_result"
    }
   ],
   "source": [
    "data"
   ]
  },
  {
   "cell_type": "markdown",
   "metadata": {},
   "source": [
    "**❓ Can you tell what is the average distance between the police station and the offenses in the Brighton district?**"
   ]
  },
  {
   "cell_type": "code",
   "execution_count": 40,
   "metadata": {
    "ExecuteTime": {
     "end_time": "2021-06-29T13:25:31.109664Z",
     "start_time": "2021-06-29T13:25:31.088496Z"
    },
    "tags": [
     "challengify"
    ]
   },
   "outputs": [
    {
     "data": {
      "text/plain": [
       "NAME\n",
       "Brighton          3.770759\n",
       "Charlestown      58.758292\n",
       "Dorchester        3.174388\n",
       "Downtown          6.336741\n",
       "East Boston       5.568505\n",
       "Hyde Park         2.397510\n",
       "Jamaica Plain     2.585725\n",
       "Mattapan          1.908562\n",
       "Roxbury           2.989093\n",
       "South Boston     31.454351\n",
       "South End         1.862027\n",
       "West Roxbury     18.370029\n",
       "Name: Distance, dtype: float64"
      ]
     },
     "execution_count": 40,
     "metadata": {},
     "output_type": "execute_result"
    }
   ],
   "source": [
    "# YOUR CODE HERE\n",
    "avg_distance_df = data.groupby(['NAME'])['Distance'].mean()\n",
    "avg_distance_df"
   ]
  },
  {
   "cell_type": "code",
   "execution_count": 93,
   "metadata": {
    "ExecuteTime": {
     "end_time": "2021-06-29T15:43:59.614186Z",
     "start_time": "2021-06-29T15:43:59.608775Z"
    }
   },
   "outputs": [
    {
     "data": {
      "text/plain": [
       "3.770759006341959"
      ]
     },
     "execution_count": 93,
     "metadata": {},
     "output_type": "execute_result"
    }
   ],
   "source": [
    "average_distance_km = avg_distance_df.loc['Brighton']\n",
    "average_distance_km"
   ]
  },
  {
   "cell_type": "code",
   "execution_count": 43,
   "metadata": {
    "ExecuteTime": {
     "end_time": "2021-06-29T13:27:16.981879Z",
     "start_time": "2021-06-29T13:27:16.978007Z"
    }
   },
   "outputs": [],
   "source": [
    "result = ChallengeResult('manipulation',\n",
    "                         second_most_common_offence=second_most_common_offence,\n",
    "                         average_distance_km=average_distance_km)\n",
    "result.write()"
   ]
  },
  {
   "cell_type": "markdown",
   "metadata": {},
   "source": [
    "# 3. Short presentation (REQUIRED TO VALIDATE THE CERTIFICATION)\n",
    "🚨🚨🚨🚨🚨🚨"
   ]
  },
  {
   "cell_type": "markdown",
   "metadata": {},
   "source": [
    "Using the latest dataset that you loaded, your mission is now to prepare 5 slides (including a title slide) that you would present to the head of the Police Department. You may or may not, as you prefer, include the output of the two \"Further data manipulations\" tasks in your presentation.\n",
    "\n",
    "⚠️  You can use any presentation editor of your choice, but **the slides must be shared either in HTML or in PDF format and saved in the current directory**"
   ]
  },
  {
   "cell_type": "markdown",
   "metadata": {},
   "source": [
    "Before you get started, here are four small pieces of advice:\n",
    "\n",
    "- to prepare your data visualisations, do not hesitate to create a separate, blank notebook; \n",
    "\n",
    "\n",
    "- pay particular attention to the readability and the clarity of your legends, titles, charts and tables; \n",
    "\n",
    "\n",
    "- the Pandas `resample` method might be useful if you want to plot time trends;\n",
    "\n",
    "\n",
    "- keep in mind that you are working with real data and sometimes, data are not very talkative. Do not feel discouraged if your charts do not provide revolutionary insights: typically, an absence of trend is a substantial piece of information!"
   ]
  },
  {
   "cell_type": "markdown",
   "metadata": {},
   "source": [
    "Good luck in changing Boston residents' lives!"
   ]
  },
  {
   "cell_type": "code",
   "execution_count": 86,
   "metadata": {
    "ExecuteTime": {
     "end_time": "2021-06-29T14:10:31.878278Z",
     "start_time": "2021-06-29T14:10:31.745636Z"
    }
   },
   "outputs": [
    {
     "name": "stdout",
     "output_type": "stream",
     "text": [
      "/Users/blacl/code/pblclrd/data-certification-exam/decision_science\r\n"
     ]
    }
   ],
   "source": [
    "!pwd"
   ]
  },
  {
   "cell_type": "code",
   "execution_count": 64,
   "metadata": {
    "ExecuteTime": {
     "end_time": "2021-06-29T13:54:07.552541Z",
     "start_time": "2021-06-29T13:54:07.550249Z"
    }
   },
   "outputs": [],
   "source": [
    "query_investigation = \"\"\"\n",
    "SELECT districts.CODE, \n",
    "districts.NAME, \n",
    "COUNT(incident_reports.INCIDENT_NUMBER) AS NB_INCIDENTS,\n",
    "indicators.MEDIAN_AGE,\n",
    "indicators.TOTAL_POP,\n",
    "indicators.PERC_OF_30_34,\n",
    "indicators.PERC_MARRIED_COUPLE_FAMILY,\n",
    "indicators.PER_CAPITA_INCOME,\n",
    "indicators.PERC_OTHER_STATE_OR_ABROAD,\n",
    "indicators.PERC_LESS_THAN_HIGH_SCHOOL,\n",
    "indicators.PERC_COLLEGE_GRADUATES\n",
    "FROM incident_reports\n",
    "JOIN districts ON incident_reports.DISTRICT = districts.CODE\n",
    "JOIN indicators ON indicators.CODE = districts.CODE\n",
    "WHERE incident_reports.OFFENSE_CODE_GROUP = 'Larceny and vandalism'\n",
    "GROUP BY districts.CODE\n",
    "\"\"\""
   ]
  },
  {
   "cell_type": "code",
   "execution_count": 66,
   "metadata": {
    "ExecuteTime": {
     "end_time": "2021-06-29T13:55:30.553875Z",
     "start_time": "2021-06-29T13:55:30.421014Z"
    }
   },
   "outputs": [],
   "source": [
    "df = pd.read_sql(\n",
    "    query_investigation, conn)"
   ]
  },
  {
   "cell_type": "code",
   "execution_count": 67,
   "metadata": {
    "ExecuteTime": {
     "end_time": "2021-06-29T13:55:48.859205Z",
     "start_time": "2021-06-29T13:55:48.856666Z"
    }
   },
   "outputs": [],
   "source": [
    "df = df.iloc[1:]"
   ]
  },
  {
   "cell_type": "code",
   "execution_count": 90,
   "metadata": {
    "ExecuteTime": {
     "end_time": "2021-06-29T14:27:44.445566Z",
     "start_time": "2021-06-29T14:27:44.435861Z"
    }
   },
   "outputs": [],
   "source": [
    "df['crime_per_inh'] = df['NB_INCIDENTS'] / df['TOTAL_POP']"
   ]
  },
  {
   "cell_type": "code",
   "execution_count": 91,
   "metadata": {
    "ExecuteTime": {
     "end_time": "2021-06-29T14:27:45.712956Z",
     "start_time": "2021-06-29T14:27:45.695327Z"
    },
    "scrolled": true
   },
   "outputs": [
    {
     "data": {
      "text/html": [
       "<div>\n",
       "<style scoped>\n",
       "    .dataframe tbody tr th:only-of-type {\n",
       "        vertical-align: middle;\n",
       "    }\n",
       "\n",
       "    .dataframe tbody tr th {\n",
       "        vertical-align: top;\n",
       "    }\n",
       "\n",
       "    .dataframe thead th {\n",
       "        text-align: right;\n",
       "    }\n",
       "</style>\n",
       "<table border=\"1\" class=\"dataframe\">\n",
       "  <thead>\n",
       "    <tr style=\"text-align: right;\">\n",
       "      <th></th>\n",
       "      <th>CODE</th>\n",
       "      <th>NAME</th>\n",
       "      <th>NB_INCIDENTS</th>\n",
       "      <th>MEDIAN_AGE</th>\n",
       "      <th>TOTAL_POP</th>\n",
       "      <th>PERC_OF_30_34</th>\n",
       "      <th>PERC_MARRIED_COUPLE_FAMILY</th>\n",
       "      <th>PER_CAPITA_INCOME</th>\n",
       "      <th>PERC_OTHER_STATE_OR_ABROAD</th>\n",
       "      <th>PERC_LESS_THAN_HIGH_SCHOOL</th>\n",
       "      <th>PERC_COLLEGE_GRADUATES</th>\n",
       "      <th>crime_per_inh</th>\n",
       "    </tr>\n",
       "  </thead>\n",
       "  <tbody>\n",
       "    <tr>\n",
       "      <th>1</th>\n",
       "      <td>A15</td>\n",
       "      <td>Charlestown</td>\n",
       "      <td>1671</td>\n",
       "      <td>35.7</td>\n",
       "      <td>19890</td>\n",
       "      <td>28.2</td>\n",
       "      <td>36.4</td>\n",
       "      <td>75339</td>\n",
       "      <td>3.4</td>\n",
       "      <td>7.9</td>\n",
       "      <td>8.2</td>\n",
       "      <td>0.084012</td>\n",
       "    </tr>\n",
       "    <tr>\n",
       "      <th>2</th>\n",
       "      <td>A7</td>\n",
       "      <td>East Boston</td>\n",
       "      <td>2911</td>\n",
       "      <td>30.6</td>\n",
       "      <td>47263</td>\n",
       "      <td>31.1</td>\n",
       "      <td>30.4</td>\n",
       "      <td>31473</td>\n",
       "      <td>3.5</td>\n",
       "      <td>27.2</td>\n",
       "      <td>11.5</td>\n",
       "      <td>0.061592</td>\n",
       "    </tr>\n",
       "    <tr>\n",
       "      <th>3</th>\n",
       "      <td>B2</td>\n",
       "      <td>Roxbury</td>\n",
       "      <td>10471</td>\n",
       "      <td>32.5</td>\n",
       "      <td>54161</td>\n",
       "      <td>27.8</td>\n",
       "      <td>17.8</td>\n",
       "      <td>20978</td>\n",
       "      <td>2.9</td>\n",
       "      <td>23.0</td>\n",
       "      <td>18.9</td>\n",
       "      <td>0.193331</td>\n",
       "    </tr>\n",
       "    <tr>\n",
       "      <th>4</th>\n",
       "      <td>B3</td>\n",
       "      <td>Mattapan</td>\n",
       "      <td>6598</td>\n",
       "      <td>36.7</td>\n",
       "      <td>26659</td>\n",
       "      <td>20.9</td>\n",
       "      <td>29.8</td>\n",
       "      <td>28356</td>\n",
       "      <td>2.3</td>\n",
       "      <td>14.5</td>\n",
       "      <td>22.9</td>\n",
       "      <td>0.247496</td>\n",
       "    </tr>\n",
       "    <tr>\n",
       "      <th>5</th>\n",
       "      <td>C11</td>\n",
       "      <td>Dorchester</td>\n",
       "      <td>9230</td>\n",
       "      <td>33.4</td>\n",
       "      <td>126909</td>\n",
       "      <td>28.2</td>\n",
       "      <td>26.6</td>\n",
       "      <td>29767</td>\n",
       "      <td>2.4</td>\n",
       "      <td>18.0</td>\n",
       "      <td>17.1</td>\n",
       "      <td>0.072729</td>\n",
       "    </tr>\n",
       "    <tr>\n",
       "      <th>6</th>\n",
       "      <td>C6</td>\n",
       "      <td>South Boston</td>\n",
       "      <td>5637</td>\n",
       "      <td>31.9</td>\n",
       "      <td>36772</td>\n",
       "      <td>46.1</td>\n",
       "      <td>24.7</td>\n",
       "      <td>64745</td>\n",
       "      <td>2.4</td>\n",
       "      <td>7.9</td>\n",
       "      <td>8.4</td>\n",
       "      <td>0.153296</td>\n",
       "    </tr>\n",
       "    <tr>\n",
       "      <th>7</th>\n",
       "      <td>D14</td>\n",
       "      <td>Brighton</td>\n",
       "      <td>5274</td>\n",
       "      <td>30.8</td>\n",
       "      <td>55297</td>\n",
       "      <td>52.8</td>\n",
       "      <td>26.4</td>\n",
       "      <td>41261</td>\n",
       "      <td>8.6</td>\n",
       "      <td>6.7</td>\n",
       "      <td>10.5</td>\n",
       "      <td>0.095376</td>\n",
       "    </tr>\n",
       "    <tr>\n",
       "      <th>9</th>\n",
       "      <td>E13</td>\n",
       "      <td>Jamaica Plain</td>\n",
       "      <td>4546</td>\n",
       "      <td>34.8</td>\n",
       "      <td>40867</td>\n",
       "      <td>32.5</td>\n",
       "      <td>33.7</td>\n",
       "      <td>51655</td>\n",
       "      <td>5.5</td>\n",
       "      <td>8.0</td>\n",
       "      <td>12.1</td>\n",
       "      <td>0.111239</td>\n",
       "    </tr>\n",
       "    <tr>\n",
       "      <th>10</th>\n",
       "      <td>E18</td>\n",
       "      <td>Hyde Park</td>\n",
       "      <td>3517</td>\n",
       "      <td>39.4</td>\n",
       "      <td>38924</td>\n",
       "      <td>21.1</td>\n",
       "      <td>38.4</td>\n",
       "      <td>32744</td>\n",
       "      <td>1.9</td>\n",
       "      <td>13.8</td>\n",
       "      <td>21.3</td>\n",
       "      <td>0.090356</td>\n",
       "    </tr>\n",
       "    <tr>\n",
       "      <th>11</th>\n",
       "      <td>E5</td>\n",
       "      <td>West Roxbury</td>\n",
       "      <td>2915</td>\n",
       "      <td>42.8</td>\n",
       "      <td>33526</td>\n",
       "      <td>18.1</td>\n",
       "      <td>46.2</td>\n",
       "      <td>47836</td>\n",
       "      <td>1.9</td>\n",
       "      <td>6.5</td>\n",
       "      <td>13.2</td>\n",
       "      <td>0.086947</td>\n",
       "    </tr>\n",
       "  </tbody>\n",
       "</table>\n",
       "</div>"
      ],
      "text/plain": [
       "   CODE           NAME  NB_INCIDENTS  MEDIAN_AGE  TOTAL_POP  PERC_OF_30_34  \\\n",
       "1   A15    Charlestown          1671        35.7      19890           28.2   \n",
       "2    A7    East Boston          2911        30.6      47263           31.1   \n",
       "3    B2        Roxbury         10471        32.5      54161           27.8   \n",
       "4    B3       Mattapan          6598        36.7      26659           20.9   \n",
       "5   C11     Dorchester          9230        33.4     126909           28.2   \n",
       "6    C6   South Boston          5637        31.9      36772           46.1   \n",
       "7   D14       Brighton          5274        30.8      55297           52.8   \n",
       "9   E13  Jamaica Plain          4546        34.8      40867           32.5   \n",
       "10  E18      Hyde Park          3517        39.4      38924           21.1   \n",
       "11   E5   West Roxbury          2915        42.8      33526           18.1   \n",
       "\n",
       "    PERC_MARRIED_COUPLE_FAMILY  PER_CAPITA_INCOME  PERC_OTHER_STATE_OR_ABROAD  \\\n",
       "1                         36.4              75339                         3.4   \n",
       "2                         30.4              31473                         3.5   \n",
       "3                         17.8              20978                         2.9   \n",
       "4                         29.8              28356                         2.3   \n",
       "5                         26.6              29767                         2.4   \n",
       "6                         24.7              64745                         2.4   \n",
       "7                         26.4              41261                         8.6   \n",
       "9                         33.7              51655                         5.5   \n",
       "10                        38.4              32744                         1.9   \n",
       "11                        46.2              47836                         1.9   \n",
       "\n",
       "    PERC_LESS_THAN_HIGH_SCHOOL  PERC_COLLEGE_GRADUATES  crime_per_inh  \n",
       "1                          7.9                     8.2       0.084012  \n",
       "2                         27.2                    11.5       0.061592  \n",
       "3                         23.0                    18.9       0.193331  \n",
       "4                         14.5                    22.9       0.247496  \n",
       "5                         18.0                    17.1       0.072729  \n",
       "6                          7.9                     8.4       0.153296  \n",
       "7                          6.7                    10.5       0.095376  \n",
       "9                          8.0                    12.1       0.111239  \n",
       "10                        13.8                    21.3       0.090356  \n",
       "11                         6.5                    13.2       0.086947  "
      ]
     },
     "execution_count": 91,
     "metadata": {},
     "output_type": "execute_result"
    }
   ],
   "source": [
    "df"
   ]
  },
  {
   "cell_type": "code",
   "execution_count": 77,
   "metadata": {
    "ExecuteTime": {
     "end_time": "2021-06-29T14:02:21.093312Z",
     "start_time": "2021-06-29T14:02:21.090709Z"
    }
   },
   "outputs": [],
   "source": [
    "df = df.drop(8)"
   ]
  },
  {
   "cell_type": "code",
   "execution_count": 89,
   "metadata": {
    "ExecuteTime": {
     "end_time": "2021-06-29T14:23:47.151286Z",
     "start_time": "2021-06-29T14:23:46.988647Z"
    }
   },
   "outputs": [
    {
     "data": {
      "text/plain": [
       "Text(0.5, 1.0, 'Crime vs Income')"
      ]
     },
     "execution_count": 89,
     "metadata": {},
     "output_type": "execute_result"
    },
    {
     "data": {
      "image/png": "[encoded data removed]",
      "text/plain": [
       "<Figure size 432x288 with 1 Axes>"
      ]
     },
     "metadata": {
      "needs_background": "light"
     },
     "output_type": "display_data"
    }
   ],
   "source": [
    "plt.scatter(df['PER_CAPITA_INCOME'], df['NB_INCIDENTS'], edgecolor='#333333', alpha=0.75)\n",
    "plt.xlabel('Per Capita Income (USD)')\n",
    "plt.ylabel('Number of incidents')\n",
    "plt.title('Crime vs Income')\n"
   ]
  },
  {
   "cell_type": "code",
   "execution_count": 92,
   "metadata": {
    "ExecuteTime": {
     "end_time": "2021-06-29T14:28:21.546046Z",
     "start_time": "2021-06-29T14:28:21.401991Z"
    }
   },
   "outputs": [
    {
     "data": {
      "text/plain": [
       "Text(0.5, 1.0, 'Crime per head vs Income')"
      ]
     },
     "execution_count": 92,
     "metadata": {},
     "output_type": "execute_result"
    },
    {
     "data": {
      "image/png": "[encoded data removed]",
      "text/plain": [
       "<Figure size 432x288 with 1 Axes>"
      ]
     },
     "metadata": {
      "needs_background": "light"
     },
     "output_type": "display_data"
    }
   ],
   "source": [
    "plt.scatter(df['PER_CAPITA_INCOME'], df['crime_per_inh'], edgecolor='#333333', alpha=0.75)\n",
    "plt.xlabel('Per Capita Income (USD)')\n",
    "plt.ylabel('Number of incidents / population')\n",
    "plt.title('Crime per head vs Income')"
   ]
  },
  {
   "cell_type": "code",
   "execution_count": 80,
   "metadata": {
    "ExecuteTime": {
     "end_time": "2021-06-29T14:02:31.855174Z",
     "start_time": "2021-06-29T14:02:31.839760Z"
    },
    "scrolled": true
   },
   "outputs": [
    {
     "name": "stdout",
     "output_type": "stream",
     "text": [
      "                            OLS Regression Results                            \n",
      "==============================================================================\n",
      "Dep. Variable:           NB_INCIDENTS   R-squared:                       0.362\n",
      "Model:                            OLS   Adj. R-squared:                  0.282\n",
      "Method:                 Least Squares   F-statistic:                     4.539\n",
      "Date:                Tue, 29 Jun 2021   Prob (F-statistic):             0.0657\n",
      "Time:                        16:02:31   Log-Likelihood:                -90.910\n",
      "No. Observations:                  10   AIC:                             185.8\n",
      "Df Residuals:                       8   BIC:                             186.4\n",
      "Df Model:                           1                                         \n",
      "Covariance Type:            nonrobust                                         \n",
      "=====================================================================================\n",
      "                        coef    std err          t      P>|t|      [0.025      0.975]\n",
      "-------------------------------------------------------------------------------------\n",
      "Intercept          9430.4147   2092.120      4.508      0.002    4605.978    1.43e+04\n",
      "PER_CAPITA_INCOME    -0.0979      0.046     -2.131      0.066      -0.204       0.008\n",
      "==============================================================================\n",
      "Omnibus:                        0.704   Durbin-Watson:                   1.862\n",
      "Prob(Omnibus):                  0.703   Jarque-Bera (JB):                0.555\n",
      "Skew:                          -0.005   Prob(JB):                        0.758\n",
      "Kurtosis:                       1.846   Cond. No.                     1.25e+05\n",
      "==============================================================================\n",
      "\n",
      "Warnings:\n",
      "[1] Standard Errors assume that the covariance matrix of the errors is correctly specified.\n",
      "[2] The condition number is large, 1.25e+05. This might indicate that there are\n",
      "strong multicollinearity or other numerical problems.\n"
     ]
    },
    {
     "name": "stderr",
     "output_type": "stream",
     "text": [
      "/Users/blacl/.pyenv/versions/3.8.6/envs/lewagon/lib/python3.8/site-packages/scipy/stats/stats.py:1603: UserWarning: kurtosistest only valid for n>=20 ... continuing anyway, n=10\n",
      "  warnings.warn(\"kurtosistest only valid for n>=20 ... continuing \"\n"
     ]
    }
   ],
   "source": [
    "model2 = smf.ols('NB_INCIDENTS ~ PER_CAPITA_INCOME', data=df).fit()\n",
    "print(model2.summary())"
   ]
  },
  {
   "cell_type": "markdown",
   "metadata": {},
   "source": [
    "# A word of conclusion"
   ]
  },
  {
   "cell_type": "markdown",
   "metadata": {},
   "source": [
    "Congratulations for going through the exercise 🎉\n",
    "\n",
    "If you wish to pursue your analysis at some point, note that all datasets (and many others) are publicly available online, on the [Analyze Boston](https://data.boston.gov) website.\n",
    "\n",
    "Besides, if you are interested in the topic, you can start by reading the work of Nobel Prize laureate Gary Becker, who was the first to model crime as a rational phenomenon, similarly to an economic decision. This model, although it has limitations, marked a breakthrough in the study of crime and paved the way for many empirical studies that further analysed the socio-economic determinants of illegal activities. \n",
    "\n",
    "👉 [Link](https://olis.leg.state.or.us/liz/2017R1/Downloads/CommitteeMeetingDocument/125036) to download a full-text version of \"Crime and Punishment: An Economic Approach\" by Becker (1968)"
   ]
  }
 ],
 "metadata": {
  "kernelspec": {
   "display_name": "Python 3",
   "language": "python",
   "name": "python3"
  },
  "language_info": {
   "codemirror_mode": {
    "name": "ipython",
    "version": 3
   },
   "file_extension": ".py",
   "mimetype": "text/x-python",
   "name": "python",
   "nbconvert_exporter": "python",
   "pygments_lexer": "ipython3",
   "version": "3.8.6"
  },
  "toc": {
   "base_numbering": 1,
   "nav_menu": {},
   "number_sections": false,
   "sideBar": true,
   "skip_h1_title": false,
   "title_cell": "Table of Contents",
   "title_sidebar": "Contents",
   "toc_cell": false,
   "toc_position": {
    "height": "calc(100% - 180px)",
    "left": "10px",
    "top": "150px",
    "width": "165px"
   },
   "toc_section_display": true,
   "toc_window_display": true
  },
  "varInspector": {
   "cols": {
    "lenName": 16,
    "lenType": 16,
    "lenVar": 40
   },
   "kernels_config": {
    "python": {
     "delete_cmd_postfix": "",
     "delete_cmd_prefix": "del ",
     "library": "var_list.py",
     "varRefreshCmd": "print(var_dic_list())"
    },
    "r": {
     "delete_cmd_postfix": ") ",
     "delete_cmd_prefix": "rm(",
     "library": "var_list.r",
     "varRefreshCmd": "cat(var_dic_list()) "
    }
   },
   "types_to_exclude": [
    "module",
    "function",
    "builtin_function_or_method",
    "instance",
    "_Feature"
   ],
   "window_display": false
  }
 },
 "nbformat": 4,
 "nbformat_minor": 4
}
